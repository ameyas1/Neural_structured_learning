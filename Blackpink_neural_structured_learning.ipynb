{
  "nbformat": 4,
  "nbformat_minor": 0,
  "metadata": {
    "colab": {
      "name": "Blackpink_neural_structured_learning",
      "provenance": [],
      "collapsed_sections": [],
      "mount_file_id": "1XxA6PdSuZP4R_lF2TkELINxN9ahwlcQV",
      "authorship_tag": "ABX9TyOo5f6jhXsa9WsoNg1JnV6C",
      "include_colab_link": true
    },
    "kernelspec": {
      "name": "python3",
      "display_name": "Python 3"
    },
    "accelerator": "GPU"
  },
  "cells": [
    {
      "cell_type": "markdown",
      "metadata": {
        "id": "view-in-github",
        "colab_type": "text"
      },
      "source": [
        "<a href=\"https://colab.research.google.com/github/ameyas1/Neural_structured_learning/blob/master/Blackpink_neural_structured_learning.ipynb\" target=\"_parent\"><img src=\"https://colab.research.google.com/assets/colab-badge.svg\" alt=\"Open In Colab\"/></a>"
      ]
    },
    {
      "cell_type": "code",
      "metadata": {
        "id": "Eu1t3xqUn78B",
        "colab_type": "code",
        "colab": {}
      },
      "source": [
        "try:\n",
        "  # %tensorflow_version only exists in Colab.\n",
        "  %tensorflow_version 2.x\n",
        "except Exception:\n",
        "  pass\n",
        "import tensorflow as tf"
      ],
      "execution_count": 0,
      "outputs": []
    },
    {
      "cell_type": "code",
      "metadata": {
        "id": "E9tUcg9SoInb",
        "colab_type": "code",
        "colab": {}
      },
      "source": [
        "from tensorflow.keras.models import load_model"
      ],
      "execution_count": 0,
      "outputs": []
    },
    {
      "cell_type": "code",
      "metadata": {
        "id": "kqExZtoyoOcc",
        "colab_type": "code",
        "outputId": "ff78b68d-a6ff-4077-aca4-cc028e123257",
        "colab": {
          "base_uri": "https://localhost:8080/",
          "height": 34
        }
      },
      "source": [
        "print(tf.__version__)"
      ],
      "execution_count": 0,
      "outputs": [
        {
          "output_type": "stream",
          "text": [
            "2.2.0-rc2\n"
          ],
          "name": "stdout"
        }
      ]
    },
    {
      "cell_type": "code",
      "metadata": {
        "id": "wbQncOKyoROQ",
        "colab_type": "code",
        "outputId": "b53f3c68-03ce-4714-d6ee-597e6e2a2638",
        "colab": {
          "base_uri": "https://localhost:8080/",
          "height": 209
        }
      },
      "source": [
        "!pip install --upgrade neural_structured_learning"
      ],
      "execution_count": 0,
      "outputs": [
        {
          "output_type": "stream",
          "text": [
            "Collecting neural_structured_learning\n",
            "\u001b[?25l  Downloading https://files.pythonhosted.org/packages/08/2e/22b1385d7d601ad0c81457a5b66b3bb6f3c400348c62ea3f07a5fc1b13bc/neural_structured_learning-1.1.0-py2.py3-none-any.whl (104kB)\n",
            "\r\u001b[K     |███▏                            | 10kB 32.7MB/s eta 0:00:01\r\u001b[K     |██████▎                         | 20kB 2.9MB/s eta 0:00:01\r\u001b[K     |█████████▍                      | 30kB 4.3MB/s eta 0:00:01\r\u001b[K     |████████████▌                   | 40kB 2.9MB/s eta 0:00:01\r\u001b[K     |███████████████▋                | 51kB 3.5MB/s eta 0:00:01\r\u001b[K     |██████████████████▉             | 61kB 4.2MB/s eta 0:00:01\r\u001b[K     |██████████████████████          | 71kB 4.8MB/s eta 0:00:01\r\u001b[K     |█████████████████████████       | 81kB 5.4MB/s eta 0:00:01\r\u001b[K     |████████████████████████████▏   | 92kB 6.1MB/s eta 0:00:01\r\u001b[K     |███████████████████████████████▎| 102kB 4.7MB/s eta 0:00:01\r\u001b[K     |████████████████████████████████| 112kB 4.7MB/s \n",
            "\u001b[?25hRequirement already satisfied, skipping upgrade: six in /usr/local/lib/python3.6/dist-packages (from neural_structured_learning) (1.12.0)\n",
            "Requirement already satisfied, skipping upgrade: absl-py in /usr/local/lib/python3.6/dist-packages (from neural_structured_learning) (0.9.0)\n",
            "Requirement already satisfied, skipping upgrade: scipy in /usr/local/lib/python3.6/dist-packages (from neural_structured_learning) (1.4.1)\n",
            "Requirement already satisfied, skipping upgrade: attrs in /usr/local/lib/python3.6/dist-packages (from neural_structured_learning) (19.3.0)\n",
            "Requirement already satisfied, skipping upgrade: numpy>=1.13.3 in /usr/local/lib/python3.6/dist-packages (from scipy->neural_structured_learning) (1.18.2)\n",
            "Installing collected packages: neural-structured-learning\n",
            "Successfully installed neural-structured-learning-1.1.0\n"
          ],
          "name": "stdout"
        }
      ]
    },
    {
      "cell_type": "code",
      "metadata": {
        "id": "tZQNHhFAoXhB",
        "colab_type": "code",
        "colab": {}
      },
      "source": [
        "import neural_structured_learning as nsl"
      ],
      "execution_count": 0,
      "outputs": []
    },
    {
      "cell_type": "code",
      "metadata": {
        "id": "yCh4tbpvoXpl",
        "colab_type": "code",
        "colab": {}
      },
      "source": [
        "from tensorflow.keras import Sequential,Model\n",
        "from tensorflow.keras.layers import ZeroPadding2D,Convolution2D,MaxPooling2D,Dropout,Flatten,Activation,Dense"
      ],
      "execution_count": 0,
      "outputs": []
    },
    {
      "cell_type": "code",
      "metadata": {
        "id": "12N-0IkkoXwW",
        "colab_type": "code",
        "colab": {}
      },
      "source": [
        "import IPython.display as display\n",
        "from PIL import Image\n",
        "import numpy as np\n",
        "import matplotlib.pyplot as plt\n",
        "import os"
      ],
      "execution_count": 0,
      "outputs": []
    },
    {
      "cell_type": "code",
      "metadata": {
        "id": "D6ENXovwoXuW",
        "colab_type": "code",
        "colab": {}
      },
      "source": [
        "model = Sequential()\n",
        "model.add(ZeroPadding2D((1,1),input_shape=(224,224, 3)))\n",
        "model.add(Convolution2D(64, (3, 3), activation='relu'))\n",
        "model.add(ZeroPadding2D((1,1)))\n",
        "model.add(Convolution2D(64, (3, 3), activation='relu'))\n",
        "model.add(MaxPooling2D((2,2), strides=(2,2)))\n",
        " \n",
        "model.add(ZeroPadding2D((1,1)))\n",
        "model.add(Convolution2D(128, (3, 3), activation='relu'))\n",
        "model.add(ZeroPadding2D((1,1)))\n",
        "model.add(Convolution2D(128, (3, 3), activation='relu'))\n",
        "model.add(MaxPooling2D((2,2), strides=(2,2)))\n",
        " \n",
        "model.add(ZeroPadding2D((1,1)))\n",
        "model.add(Convolution2D(256, (3, 3), activation='relu'))\n",
        "model.add(ZeroPadding2D((1,1)))\n",
        "model.add(Convolution2D(256, (3, 3), activation='relu'))\n",
        "model.add(ZeroPadding2D((1,1)))\n",
        "model.add(Convolution2D(256, (3, 3), activation='relu'))\n",
        "model.add(MaxPooling2D((2,2), strides=(2,2)))\n",
        " \n",
        "model.add(ZeroPadding2D((1,1)))\n",
        "model.add(Convolution2D(512, (3, 3), activation='relu'))\n",
        "model.add(ZeroPadding2D((1,1)))\n",
        "model.add(Convolution2D(512, (3, 3), activation='relu'))\n",
        "model.add(ZeroPadding2D((1,1)))\n",
        "model.add(Convolution2D(512, (3, 3), activation='relu'))\n",
        "model.add(MaxPooling2D((2,2), strides=(2,2)))\n",
        " \n",
        "model.add(ZeroPadding2D((1,1)))\n",
        "model.add(Convolution2D(512, (3, 3), activation='relu'))\n",
        "model.add(ZeroPadding2D((1,1)))\n",
        "model.add(Convolution2D(512, (3, 3), activation='relu'))\n",
        "model.add(ZeroPadding2D((1,1)))\n",
        "model.add(Convolution2D(512, (3, 3), activation='relu'))\n",
        "model.add(MaxPooling2D((2,2), strides=(2,2)))\n",
        " \n",
        "model.add(Convolution2D(4096, (7, 7), activation='relu'))\n",
        "model.add(Dropout(0.5))\n",
        "model.add(Convolution2D(4096, (1, 1), activation='relu'))\n",
        "model.add(Dropout(0.5))\n",
        "model.add(Convolution2D(2622, (1, 1)))\n",
        "model.add(Flatten())\n",
        "model.add(Activation('softmax'))"
      ],
      "execution_count": 0,
      "outputs": []
    },
    {
      "cell_type": "code",
      "metadata": {
        "id": "ywllvf4JsvjE",
        "colab_type": "code",
        "colab": {}
      },
      "source": [
        ""
      ],
      "execution_count": 0,
      "outputs": []
    },
    {
      "cell_type": "code",
      "metadata": {
        "id": "K-NfBR9ooXn1",
        "colab_type": "code",
        "colab": {}
      },
      "source": [
        "model.load_weights('/content/drive/My Drive/vgg_face_weights.h5')"
      ],
      "execution_count": 0,
      "outputs": []
    },
    {
      "cell_type": "code",
      "metadata": {
        "id": "FWFNrqaNoXkg",
        "colab_type": "code",
        "outputId": "3c2f5c7e-da60-4539-97ed-e70d3b194135",
        "colab": {
          "base_uri": "https://localhost:8080/",
          "height": 1000
        }
      },
      "source": [
        "model.summary()"
      ],
      "execution_count": 0,
      "outputs": [
        {
          "output_type": "stream",
          "text": [
            "Model: \"sequential\"\n",
            "_________________________________________________________________\n",
            "Layer (type)                 Output Shape              Param #   \n",
            "=================================================================\n",
            "zero_padding2d (ZeroPadding2 (None, 226, 226, 3)       0         \n",
            "_________________________________________________________________\n",
            "conv2d (Conv2D)              (None, 224, 224, 64)      1792      \n",
            "_________________________________________________________________\n",
            "zero_padding2d_1 (ZeroPaddin (None, 226, 226, 64)      0         \n",
            "_________________________________________________________________\n",
            "conv2d_1 (Conv2D)            (None, 224, 224, 64)      36928     \n",
            "_________________________________________________________________\n",
            "max_pooling2d (MaxPooling2D) (None, 112, 112, 64)      0         \n",
            "_________________________________________________________________\n",
            "zero_padding2d_2 (ZeroPaddin (None, 114, 114, 64)      0         \n",
            "_________________________________________________________________\n",
            "conv2d_2 (Conv2D)            (None, 112, 112, 128)     73856     \n",
            "_________________________________________________________________\n",
            "zero_padding2d_3 (ZeroPaddin (None, 114, 114, 128)     0         \n",
            "_________________________________________________________________\n",
            "conv2d_3 (Conv2D)            (None, 112, 112, 128)     147584    \n",
            "_________________________________________________________________\n",
            "max_pooling2d_1 (MaxPooling2 (None, 56, 56, 128)       0         \n",
            "_________________________________________________________________\n",
            "zero_padding2d_4 (ZeroPaddin (None, 58, 58, 128)       0         \n",
            "_________________________________________________________________\n",
            "conv2d_4 (Conv2D)            (None, 56, 56, 256)       295168    \n",
            "_________________________________________________________________\n",
            "zero_padding2d_5 (ZeroPaddin (None, 58, 58, 256)       0         \n",
            "_________________________________________________________________\n",
            "conv2d_5 (Conv2D)            (None, 56, 56, 256)       590080    \n",
            "_________________________________________________________________\n",
            "zero_padding2d_6 (ZeroPaddin (None, 58, 58, 256)       0         \n",
            "_________________________________________________________________\n",
            "conv2d_6 (Conv2D)            (None, 56, 56, 256)       590080    \n",
            "_________________________________________________________________\n",
            "max_pooling2d_2 (MaxPooling2 (None, 28, 28, 256)       0         \n",
            "_________________________________________________________________\n",
            "zero_padding2d_7 (ZeroPaddin (None, 30, 30, 256)       0         \n",
            "_________________________________________________________________\n",
            "conv2d_7 (Conv2D)            (None, 28, 28, 512)       1180160   \n",
            "_________________________________________________________________\n",
            "zero_padding2d_8 (ZeroPaddin (None, 30, 30, 512)       0         \n",
            "_________________________________________________________________\n",
            "conv2d_8 (Conv2D)            (None, 28, 28, 512)       2359808   \n",
            "_________________________________________________________________\n",
            "zero_padding2d_9 (ZeroPaddin (None, 30, 30, 512)       0         \n",
            "_________________________________________________________________\n",
            "conv2d_9 (Conv2D)            (None, 28, 28, 512)       2359808   \n",
            "_________________________________________________________________\n",
            "max_pooling2d_3 (MaxPooling2 (None, 14, 14, 512)       0         \n",
            "_________________________________________________________________\n",
            "zero_padding2d_10 (ZeroPaddi (None, 16, 16, 512)       0         \n",
            "_________________________________________________________________\n",
            "conv2d_10 (Conv2D)           (None, 14, 14, 512)       2359808   \n",
            "_________________________________________________________________\n",
            "zero_padding2d_11 (ZeroPaddi (None, 16, 16, 512)       0         \n",
            "_________________________________________________________________\n",
            "conv2d_11 (Conv2D)           (None, 14, 14, 512)       2359808   \n",
            "_________________________________________________________________\n",
            "zero_padding2d_12 (ZeroPaddi (None, 16, 16, 512)       0         \n",
            "_________________________________________________________________\n",
            "conv2d_12 (Conv2D)           (None, 14, 14, 512)       2359808   \n",
            "_________________________________________________________________\n",
            "max_pooling2d_4 (MaxPooling2 (None, 7, 7, 512)         0         \n",
            "_________________________________________________________________\n",
            "conv2d_13 (Conv2D)           (None, 1, 1, 4096)        102764544 \n",
            "_________________________________________________________________\n",
            "dropout (Dropout)            (None, 1, 1, 4096)        0         \n",
            "_________________________________________________________________\n",
            "conv2d_14 (Conv2D)           (None, 1, 1, 4096)        16781312  \n",
            "_________________________________________________________________\n",
            "dropout_1 (Dropout)          (None, 1, 1, 4096)        0         \n",
            "_________________________________________________________________\n",
            "conv2d_15 (Conv2D)           (None, 1, 1, 2622)        10742334  \n",
            "_________________________________________________________________\n",
            "flatten (Flatten)            (None, 2622)              0         \n",
            "_________________________________________________________________\n",
            "activation (Activation)      (None, 2622)              0         \n",
            "=================================================================\n",
            "Total params: 145,002,878\n",
            "Trainable params: 145,002,878\n",
            "Non-trainable params: 0\n",
            "_________________________________________________________________\n"
          ],
          "name": "stdout"
        }
      ]
    },
    {
      "cell_type": "code",
      "metadata": {
        "id": "PYNazi6koudk",
        "colab_type": "code",
        "colab": {}
      },
      "source": [
        "for layer in model.layers:\n",
        "  layer.trainable = False"
      ],
      "execution_count": 0,
      "outputs": []
    },
    {
      "cell_type": "code",
      "metadata": {
        "id": "Lb5XLglSoumL",
        "colab_type": "code",
        "outputId": "274a21dc-bc7d-46db-ea44-920ca3e33a56",
        "colab": {
          "base_uri": "https://localhost:8080/",
          "height": 34
        }
      },
      "source": [
        "last_layer = model.get_layer('conv2d_15')\n",
        "print('last layer output shape: ', last_layer.output_shape)\n",
        "last_output = last_layer.output"
      ],
      "execution_count": 0,
      "outputs": [
        {
          "output_type": "stream",
          "text": [
            "last layer output shape:  (None, 1, 1, 2622)\n"
          ],
          "name": "stdout"
        }
      ]
    },
    {
      "cell_type": "code",
      "metadata": {
        "id": "M4T9KMrDoujT",
        "colab_type": "code",
        "colab": {}
      },
      "source": [
        "from tensorflow.keras.optimizers import Adam\n",
        "import tensorflow as tf\n",
        "\n",
        "x=Flatten()(last_output) \n",
        "x=tf.keras.layers.LayerNormalization()(x)\n",
        "x=Dropout(0.2)(x)\n",
        "x=Dense(256,activation='relu')(x)\n",
        "x=tf.keras.layers.LayerNormalization()(x)\n",
        "x=Dropout(0.2)(x)\n",
        "\n",
        "x=tf.keras.layers.Dense(64,activation='relu')(x)\n",
        "x=tf.keras.layers.LayerNormalization()(x)\n",
        "x=tf.keras.layers.Dropout(0.2)(x)\n",
        "\n",
        "# x=tf.keras.layers.Dense(16,activation='relu')(x)\n",
        "# x=tf.keras.layers.LayerNormalization()(x)\n",
        "# x=tf.keras.layers.Dropout(0.2)(x)\n",
        "\n",
        "# Add a final sigmoid layer for classification\n",
        "x = Dense  (4, activation='softmax')(x)           \n",
        "\n",
        "fc_model = Model( model.input, x) \n",
        "\n",
        "fc_model.compile(optimizer = Adam(lr=0.01), \n",
        "              loss = 'categorical_crossentropy', \n",
        "              metrics = ['acc'])"
      ],
      "execution_count": 0,
      "outputs": []
    },
    {
      "cell_type": "code",
      "metadata": {
        "id": "0ctY28Fhouhd",
        "colab_type": "code",
        "outputId": "30493f04-3b46-4ad3-c138-5b0f42ce104a",
        "colab": {
          "base_uri": "https://localhost:8080/",
          "height": 1000
        }
      },
      "source": [
        "fc_model.summary()"
      ],
      "execution_count": 0,
      "outputs": [
        {
          "output_type": "stream",
          "text": [
            "Model: \"model\"\n",
            "_________________________________________________________________\n",
            "Layer (type)                 Output Shape              Param #   \n",
            "=================================================================\n",
            "zero_padding2d_input (InputL [(None, 224, 224, 3)]     0         \n",
            "_________________________________________________________________\n",
            "zero_padding2d (ZeroPadding2 (None, 226, 226, 3)       0         \n",
            "_________________________________________________________________\n",
            "conv2d (Conv2D)              (None, 224, 224, 64)      1792      \n",
            "_________________________________________________________________\n",
            "zero_padding2d_1 (ZeroPaddin (None, 226, 226, 64)      0         \n",
            "_________________________________________________________________\n",
            "conv2d_1 (Conv2D)            (None, 224, 224, 64)      36928     \n",
            "_________________________________________________________________\n",
            "max_pooling2d (MaxPooling2D) (None, 112, 112, 64)      0         \n",
            "_________________________________________________________________\n",
            "zero_padding2d_2 (ZeroPaddin (None, 114, 114, 64)      0         \n",
            "_________________________________________________________________\n",
            "conv2d_2 (Conv2D)            (None, 112, 112, 128)     73856     \n",
            "_________________________________________________________________\n",
            "zero_padding2d_3 (ZeroPaddin (None, 114, 114, 128)     0         \n",
            "_________________________________________________________________\n",
            "conv2d_3 (Conv2D)            (None, 112, 112, 128)     147584    \n",
            "_________________________________________________________________\n",
            "max_pooling2d_1 (MaxPooling2 (None, 56, 56, 128)       0         \n",
            "_________________________________________________________________\n",
            "zero_padding2d_4 (ZeroPaddin (None, 58, 58, 128)       0         \n",
            "_________________________________________________________________\n",
            "conv2d_4 (Conv2D)            (None, 56, 56, 256)       295168    \n",
            "_________________________________________________________________\n",
            "zero_padding2d_5 (ZeroPaddin (None, 58, 58, 256)       0         \n",
            "_________________________________________________________________\n",
            "conv2d_5 (Conv2D)            (None, 56, 56, 256)       590080    \n",
            "_________________________________________________________________\n",
            "zero_padding2d_6 (ZeroPaddin (None, 58, 58, 256)       0         \n",
            "_________________________________________________________________\n",
            "conv2d_6 (Conv2D)            (None, 56, 56, 256)       590080    \n",
            "_________________________________________________________________\n",
            "max_pooling2d_2 (MaxPooling2 (None, 28, 28, 256)       0         \n",
            "_________________________________________________________________\n",
            "zero_padding2d_7 (ZeroPaddin (None, 30, 30, 256)       0         \n",
            "_________________________________________________________________\n",
            "conv2d_7 (Conv2D)            (None, 28, 28, 512)       1180160   \n",
            "_________________________________________________________________\n",
            "zero_padding2d_8 (ZeroPaddin (None, 30, 30, 512)       0         \n",
            "_________________________________________________________________\n",
            "conv2d_8 (Conv2D)            (None, 28, 28, 512)       2359808   \n",
            "_________________________________________________________________\n",
            "zero_padding2d_9 (ZeroPaddin (None, 30, 30, 512)       0         \n",
            "_________________________________________________________________\n",
            "conv2d_9 (Conv2D)            (None, 28, 28, 512)       2359808   \n",
            "_________________________________________________________________\n",
            "max_pooling2d_3 (MaxPooling2 (None, 14, 14, 512)       0         \n",
            "_________________________________________________________________\n",
            "zero_padding2d_10 (ZeroPaddi (None, 16, 16, 512)       0         \n",
            "_________________________________________________________________\n",
            "conv2d_10 (Conv2D)           (None, 14, 14, 512)       2359808   \n",
            "_________________________________________________________________\n",
            "zero_padding2d_11 (ZeroPaddi (None, 16, 16, 512)       0         \n",
            "_________________________________________________________________\n",
            "conv2d_11 (Conv2D)           (None, 14, 14, 512)       2359808   \n",
            "_________________________________________________________________\n",
            "zero_padding2d_12 (ZeroPaddi (None, 16, 16, 512)       0         \n",
            "_________________________________________________________________\n",
            "conv2d_12 (Conv2D)           (None, 14, 14, 512)       2359808   \n",
            "_________________________________________________________________\n",
            "max_pooling2d_4 (MaxPooling2 (None, 7, 7, 512)         0         \n",
            "_________________________________________________________________\n",
            "conv2d_13 (Conv2D)           (None, 1, 1, 4096)        102764544 \n",
            "_________________________________________________________________\n",
            "dropout (Dropout)            (None, 1, 1, 4096)        0         \n",
            "_________________________________________________________________\n",
            "conv2d_14 (Conv2D)           (None, 1, 1, 4096)        16781312  \n",
            "_________________________________________________________________\n",
            "dropout_1 (Dropout)          (None, 1, 1, 4096)        0         \n",
            "_________________________________________________________________\n",
            "conv2d_15 (Conv2D)           (None, 1, 1, 2622)        10742334  \n",
            "_________________________________________________________________\n",
            "flatten_1 (Flatten)          (None, 2622)              0         \n",
            "_________________________________________________________________\n",
            "layer_normalization (LayerNo (None, 2622)              5244      \n",
            "_________________________________________________________________\n",
            "dropout_2 (Dropout)          (None, 2622)              0         \n",
            "_________________________________________________________________\n",
            "dense (Dense)                (None, 256)               671488    \n",
            "_________________________________________________________________\n",
            "layer_normalization_1 (Layer (None, 256)               512       \n",
            "_________________________________________________________________\n",
            "dropout_3 (Dropout)          (None, 256)               0         \n",
            "_________________________________________________________________\n",
            "dense_1 (Dense)              (None, 64)                16448     \n",
            "_________________________________________________________________\n",
            "layer_normalization_2 (Layer (None, 64)                128       \n",
            "_________________________________________________________________\n",
            "dropout_4 (Dropout)          (None, 64)                0         \n",
            "_________________________________________________________________\n",
            "dense_2 (Dense)              (None, 4)                 260       \n",
            "=================================================================\n",
            "Total params: 145,696,958\n",
            "Trainable params: 694,080\n",
            "Non-trainable params: 145,002,878\n",
            "_________________________________________________________________\n"
          ],
          "name": "stdout"
        }
      ]
    },
    {
      "cell_type": "code",
      "metadata": {
        "id": "NTpeOVmEoua7",
        "colab_type": "code",
        "colab": {}
      },
      "source": [
        "import zipfile\n",
        "zip_ref = zipfile.ZipFile('/content/drive/My Drive/blackpink_revised.zip', 'r')\n",
        "zip_ref.extractall('test')\n",
        "zip_ref.close()"
      ],
      "execution_count": 0,
      "outputs": []
    },
    {
      "cell_type": "code",
      "metadata": {
        "id": "ejicgnQSpZvr",
        "colab_type": "code",
        "colab": {}
      },
      "source": [
        "import zipfile\n",
        "zip_ref = zipfile.ZipFile('/content/drive/My Drive/blackpink_revised_all_in_one.zip', 'r')\n",
        "zip_ref.extractall('')\n",
        "zip_ref.close()"
      ],
      "execution_count": 0,
      "outputs": []
    },
    {
      "cell_type": "code",
      "metadata": {
        "id": "-VfOYj-ApZ14",
        "colab_type": "code",
        "colab": {}
      },
      "source": [
        ""
      ],
      "execution_count": 0,
      "outputs": []
    },
    {
      "cell_type": "code",
      "metadata": {
        "id": "FWi4tHV1pcuq",
        "colab_type": "code",
        "colab": {}
      },
      "source": [
        "    def read_data(base_path):\n",
        "        image_list = []\n",
        "        label_list = []\n",
        "        label_map_dict = {}\n",
        "        \n",
        "        count_label = 0\n",
        "\n",
        "        for class_name in os.listdir(base_path):\n",
        "            class_path = os.path.join(base_path, class_name)\n",
        "            label_map_dict[class_name]=count_label\n",
        "\n",
        "            for image_name in os.listdir(class_path):\n",
        "                image_path = os.path.join(class_path, image_name)\n",
        "\n",
        "                label_list.append(count_label)\n",
        "                image_list.append(image_path)\n",
        "\n",
        "            count_label += 1\n",
        "        return image_list,label_list,label_map_dict"
      ],
      "execution_count": 0,
      "outputs": []
    },
    {
      "cell_type": "code",
      "metadata": {
        "id": "s-Oa4E8Mpc17",
        "colab_type": "code",
        "colab": {}
      },
      "source": [
        "def _parse_function(filename,label):\n",
        "    image_string =tf.io.read_file(filename)\n",
        "\n",
        "    image_decoded = tf.image.decode_jpeg(image_string)\n",
        "    image = tf.image.convert_image_dtype(image_decoded, tf.float32)\n",
        "    image = tf.image.resize(image, [224, 224])\n",
        "    image = image[:,:,:3]\n",
        "\n",
        "    label = tf.one_hot(label, 4)\n",
        "    # parts = tf.strings.split(filename, os.path.sep)\n",
        "    # label = parts[-2]\n",
        "    # image=image / 255.0\n",
        "    # image = tf.cast(image_decoded, tf.float32)\n",
        "    return image,label\n",
        "\n"
      ],
      "execution_count": 0,
      "outputs": []
    },
    {
      "cell_type": "code",
      "metadata": {
        "id": "KiW4QCBv3aMZ",
        "colab_type": "code",
        "colab": {}
      },
      "source": [
        "BATCH_SIZE = 43"
      ],
      "execution_count": 0,
      "outputs": []
    },
    {
      "cell_type": "code",
      "metadata": {
        "id": "A-I-lYY8pczb",
        "colab_type": "code",
        "colab": {}
      },
      "source": [
        "\n",
        "base_path_train='/content/train_vgg'\n",
        "\n",
        "train_image, train_label,label_dict = read_data(base_path_train)\n",
        "\n",
        "train_dataset = tf.data.Dataset.from_tensor_slices((tf.constant(train_image),tf.constant(train_label))).cache().shuffle(len(train_image))\n",
        "\n",
        "train_dataset = train_dataset.map(_parse_function,num_parallel_calls=tf.data.experimental.AUTOTUNE).batch(BATCH_SIZE)\n",
        "\n",
        "train_dataset = train_dataset.prefetch(buffer_size=tf.data.experimental.AUTOTUNE)"
      ],
      "execution_count": 0,
      "outputs": []
    },
    {
      "cell_type": "code",
      "metadata": {
        "id": "KtDmkBCi40tY",
        "colab_type": "code",
        "colab": {}
      },
      "source": [
        "    def read_data_test(base_path,label_map_dict):\n",
        "        image_list = []\n",
        "        label_list = []\n",
        "        # label_map_dict = {}\n",
        "        \n",
        "        \n",
        "\n",
        "        for class_name in os.listdir(base_path):\n",
        "            class_path = os.path.join(base_path, class_name)\n",
        "            # label_map_dict[class_name]=count_label\n",
        "\n",
        "            if class_name in label_map_dict:\n",
        "              count_label = label_map_dict[class_name]\n",
        "\n",
        "            for image_name in os.listdir(class_path):\n",
        "                image_path = os.path.join(class_path, image_name)\n",
        "\n",
        "                label_list.append(count_label)\n",
        "                image_list.append(image_path)\n",
        "\n",
        "        return image_list,label_list"
      ],
      "execution_count": 0,
      "outputs": []
    },
    {
      "cell_type": "code",
      "metadata": {
        "id": "SieQDXzU4pfh",
        "colab_type": "code",
        "colab": {}
      },
      "source": [
        "base_path_test='/content/test/test_vgg'\n",
        "test_image, test_label = read_data_test(base_path_test,label_dict)\n",
        "\n",
        "test_dataset = tf.data.Dataset.from_tensor_slices((tf.constant(test_image),tf.constant(test_label))).shuffle(len(test_image))\n",
        "\n",
        "test_dataset = test_dataset.map(_parse_function,num_parallel_calls=tf.data.experimental.AUTOTUNE).batch(51)"
      ],
      "execution_count": 0,
      "outputs": []
    },
    {
      "cell_type": "code",
      "metadata": {
        "id": "5IqIo5e9_-ym",
        "colab_type": "code",
        "colab": {}
      },
      "source": [
        "test_dataset = test_dataset.prefetch(buffer_size=tf.data.experimental.AUTOTUNE)"
      ],
      "execution_count": 0,
      "outputs": []
    },
    {
      "cell_type": "code",
      "metadata": {
        "id": "eJ4b0OK5pZzw",
        "colab_type": "code",
        "outputId": "5a3944bf-fe26-48d3-a4c2-1879965a946d",
        "colab": {
          "base_uri": "https://localhost:8080/",
          "height": 1000
        }
      },
      "source": [
        "for i,j in train_dataset:\n",
        "  print(i.numpy()[-1],j.numpy()[-1])\n",
        "  plt.imshow(i.numpy()[-1])\n",
        "  break"
      ],
      "execution_count": 0,
      "outputs": [
        {
          "output_type": "stream",
          "text": [
            "[[[0.73333335 0.49411768 0.4901961 ]\n",
            "  [0.7058824  0.4666667  0.46274513]\n",
            "  [0.6627451  0.427451   0.42352945]\n",
            "  ...\n",
            "  [0.43529415 0.18431373 0.18823531]\n",
            "  [0.37647063 0.1254902  0.12941177]\n",
            "  [0.3254902  0.08235294 0.08627451]]\n",
            "\n",
            " [[0.73333335 0.49411768 0.4901961 ]\n",
            "  [0.7058824  0.4666667  0.46274513]\n",
            "  [0.6627451  0.427451   0.42352945]\n",
            "  ...\n",
            "  [0.46274513 0.21176472 0.21568629]\n",
            "  [0.40784317 0.15686275 0.16078432]\n",
            "  [0.35686275 0.1137255  0.11764707]]\n",
            "\n",
            " [[0.73333335 0.49411768 0.4901961 ]\n",
            "  [0.7058824  0.4666667  0.46274513]\n",
            "  [0.6627451  0.427451   0.42352945]\n",
            "  ...\n",
            "  [0.5058824  0.25490198 0.25490198]\n",
            "  [0.454902   0.20392159 0.20784315]\n",
            "  [0.40784317 0.16470589 0.16862746]]\n",
            "\n",
            " ...\n",
            "\n",
            " [[0.9490197  0.4784314  0.7176471 ]\n",
            "  [0.9490197  0.4784314  0.7176471 ]\n",
            "  [0.95294124 0.47450984 0.7137255 ]\n",
            "  ...\n",
            "  [0.7803922  0.28235295 0.30980393]\n",
            "  [0.77647066 0.26666668 0.29803923]\n",
            "  [0.76470596 0.25490198 0.28627452]]\n",
            "\n",
            " [[0.9490197  0.4784314  0.7176471 ]\n",
            "  [0.9490197  0.4784314  0.7176471 ]\n",
            "  [0.9568628  0.4784314  0.7176471 ]\n",
            "  ...\n",
            "  [0.7725491  0.2627451  0.29411766]\n",
            "  [0.7607844  0.2509804  0.28235295]\n",
            "  [0.75294125 0.24313727 0.27450982]]\n",
            "\n",
            " [[0.95294124 0.48235297 0.72156864]\n",
            "  [0.9490197  0.4784314  0.7176471 ]\n",
            "  [0.9568628  0.4784314  0.7176471 ]\n",
            "  ...\n",
            "  [0.76470596 0.25490198 0.28627452]\n",
            "  [0.75294125 0.24313727 0.27450982]\n",
            "  [0.7411765  0.23137257 0.2627451 ]]] [0. 0. 0. 1.]\n"
          ],
          "name": "stdout"
        },
        {
          "output_type": "display_data",
          "data": {
            "image/png": "[encoded data removed]",
            "text/plain": [
              "<Figure size 432x288 with 1 Axes>"
            ]
          },
          "metadata": {
            "tags": []
          }
        }
      ]
    },
    {
      "cell_type": "code",
      "metadata": {
        "id": "pAoLDiGp6ZWq",
        "colab_type": "code",
        "outputId": "0feaeda1-0322-4618-8ed3-5292e9926fca",
        "colab": {
          "base_uri": "https://localhost:8080/",
          "height": 1000
        }
      },
      "source": [
        "for i,j in test_dataset:\n",
        "  print(i.numpy()[0],j.numpy()[0])\n",
        "  plt.imshow(i.numpy()[0])\n",
        "  break"
      ],
      "execution_count": 0,
      "outputs": [
        {
          "output_type": "stream",
          "text": [
            "[[[0.02352941 0.0627451  0.09803922]\n",
            "  [0.02352941 0.0627451  0.09803922]\n",
            "  [0.01960784 0.0627451  0.08627451]\n",
            "  ...\n",
            "  [0.8117648  0.9294118  0.9686275 ]\n",
            "  [0.8941177  1.         1.        ]\n",
            "  [0.83921576 0.9450981  0.9803922 ]]\n",
            "\n",
            " [[0.01960784 0.05882353 0.09411766]\n",
            "  [0.01568628 0.05490196 0.09019608]\n",
            "  [0.01176471 0.05490196 0.07843138]\n",
            "  ...\n",
            "  [0.80392164 0.9215687  0.9607844 ]\n",
            "  [0.8862746  0.9921569  1.        ]\n",
            "  [0.8431373  0.9490197  0.9843138 ]]\n",
            "\n",
            " [[0.01960784 0.05882353 0.09411766]\n",
            "  [0.01176471 0.0509804  0.08627451]\n",
            "  [0.00392157 0.04705883 0.07058824]\n",
            "  ...\n",
            "  [0.80392164 0.9215687  0.9607844 ]\n",
            "  [0.87843144 0.9843138  1.        ]\n",
            "  [0.85098046 0.9568628  0.9843138 ]]\n",
            "\n",
            " ...\n",
            "\n",
            " [[0.38431376 0.2901961  0.18823531]\n",
            "  [0.4039216  0.30980393 0.20784315]\n",
            "  [0.43921572 0.3372549  0.2392157 ]\n",
            "  ...\n",
            "  [0.25490198 0.34509805 0.32156864]\n",
            "  [0.19215688 0.28235295 0.2509804 ]\n",
            "  [0.29411766 0.38431376 0.3529412 ]]\n",
            "\n",
            " [[0.3921569  0.29803923 0.19607845]\n",
            "  [0.41176474 0.31764707 0.21568629]\n",
            "  [0.4431373  0.34117648 0.24313727]\n",
            "  ...\n",
            "  [0.2392157  0.32941177 0.30588236]\n",
            "  [0.19607845 0.28627452 0.25490198]\n",
            "  [0.2784314  0.36862746 0.3372549 ]]\n",
            "\n",
            " [[0.4039216  0.30980393 0.20784315]\n",
            "  [0.427451   0.33333334 0.23137257]\n",
            "  [0.46274513 0.36078432 0.2627451 ]\n",
            "  ...\n",
            "  [0.227451   0.31764707 0.29411766]\n",
            "  [0.20392159 0.29411766 0.2627451 ]\n",
            "  [0.26666668 0.35686275 0.3254902 ]]] [0. 0. 0. 1.]\n"
          ],
          "name": "stdout"
        },
        {
          "output_type": "display_data",
          "data": {
            "image/png": "[encoded data removed]",
            "text/plain": [
              "<Figure size 432x288 with 1 Axes>"
            ]
          },
          "metadata": {
            "tags": []
          }
        }
      ]
    },
    {
      "cell_type": "code",
      "metadata": {
        "id": "K0T8A_Vf0IrU",
        "colab_type": "code",
        "outputId": "d7bb809b-111e-4c8a-8658-9470b294ee2b",
        "colab": {
          "base_uri": "https://localhost:8080/",
          "height": 34
        }
      },
      "source": [
        "label_dict"
      ],
      "execution_count": 0,
      "outputs": [
        {
          "output_type": "execute_result",
          "data": {
            "text/plain": [
              "{'jennie': 3, 'jisoo': 2, 'lisa': 0, 'rose': 1}"
            ]
          },
          "metadata": {
            "tags": []
          },
          "execution_count": 26
        }
      ]
    },
    {
      "cell_type": "code",
      "metadata": {
        "id": "z5-uPun_0OfK",
        "colab_type": "code",
        "colab": {}
      },
      "source": [
        ""
      ],
      "execution_count": 0,
      "outputs": []
    },
    {
      "cell_type": "code",
      "metadata": {
        "id": "L9fPHedSt2EL",
        "colab_type": "code",
        "colab": {}
      },
      "source": [
        "def convert_to_dictionaries(image, label):\n",
        "  return {'feature': image, 'label': label}"
      ],
      "execution_count": 0,
      "outputs": []
    },
    {
      "cell_type": "code",
      "metadata": {
        "id": "v5v5liQQvoLN",
        "colab_type": "code",
        "colab": {}
      },
      "source": [
        "train_set_for_adv_model = train_dataset.map(convert_to_dictionaries)\n",
        "test_set_for_adv_model = test_dataset.map(convert_to_dictionaries)"
      ],
      "execution_count": 0,
      "outputs": []
    },
    {
      "cell_type": "code",
      "metadata": {
        "id": "C66mGHl3yA--",
        "colab_type": "code",
        "outputId": "0dcd2d9d-26e8-4894-95c4-53001e54b688",
        "colab": {
          "base_uri": "https://localhost:8080/",
          "height": 1000
        }
      },
      "source": [
        "for i in train_set_for_adv_model:\n",
        "  print(i)\n",
        "  break\n"
      ],
      "execution_count": 0,
      "outputs": [
        {
          "output_type": "stream",
          "text": [
            "{'feature': <tf.Tensor: shape=(43, 224, 224, 3), dtype=float32, numpy=\n",
            "array([[[[0.23137257, 0.17254902, 0.16078432],\n",
            "         [0.23137257, 0.17254902, 0.16078432],\n",
            "         [0.23137257, 0.17254902, 0.16078432],\n",
            "         ...,\n",
            "         [0.86666673, 0.77647066, 0.72156864],\n",
            "         [0.86666673, 0.77647066, 0.72156864],\n",
            "         [0.86666673, 0.77647066, 0.72156864]],\n",
            "\n",
            "        [[0.23137257, 0.17254902, 0.16078432],\n",
            "         [0.23137257, 0.17254902, 0.16078432],\n",
            "         [0.23137257, 0.17254902, 0.16078432],\n",
            "         ...,\n",
            "         [0.8705883 , 0.7803922 , 0.7254902 ],\n",
            "         [0.8705883 , 0.7803922 , 0.7254902 ],\n",
            "         [0.8705883 , 0.7803922 , 0.7254902 ]],\n",
            "\n",
            "        [[0.23137257, 0.17254902, 0.16078432],\n",
            "         [0.23137257, 0.17254902, 0.16078432],\n",
            "         [0.23137257, 0.17254902, 0.16078432],\n",
            "         ...,\n",
            "         [0.87843144, 0.78823537, 0.73333335],\n",
            "         [0.87843144, 0.78823537, 0.73333335],\n",
            "         [0.87843144, 0.78823537, 0.73333335]],\n",
            "\n",
            "        ...,\n",
            "\n",
            "        [[0.34509805, 0.2509804 , 0.23529413],\n",
            "         [0.34901962, 0.25490198, 0.2392157 ],\n",
            "         [0.35686275, 0.2627451 , 0.24705884],\n",
            "         ...,\n",
            "         [0.7058824 , 0.47450984, 0.41960788],\n",
            "         [0.7137255 , 0.47058827, 0.41960788],\n",
            "         [0.7058824 , 0.47450984, 0.41960788]],\n",
            "\n",
            "        [[0.3372549 , 0.25490198, 0.23529413],\n",
            "         [0.34117648, 0.25882354, 0.2392157 ],\n",
            "         [0.34901962, 0.26666668, 0.24705884],\n",
            "         ...,\n",
            "         [0.70980394, 0.48235297, 0.427451  ],\n",
            "         [0.7176471 , 0.48627454, 0.43137258],\n",
            "         [0.7176471 , 0.4901961 , 0.43529415]],\n",
            "\n",
            "        [[0.34509805, 0.2627451 , 0.24313727],\n",
            "         [0.34509805, 0.2627451 , 0.24313727],\n",
            "         [0.34901962, 0.26666668, 0.24705884],\n",
            "         ...,\n",
            "         [0.7176471 , 0.4901961 , 0.43529415],\n",
            "         [0.7254902 , 0.49803925, 0.4431373 ],\n",
            "         [0.7294118 , 0.5019608 , 0.44705886]]],\n",
            "\n",
            "\n",
            "       [[[0.4901961 , 0.00784314, 0.02745098],\n",
            "         [0.4901961 , 0.00784314, 0.02745098],\n",
            "         [0.47450984, 0.        , 0.01960784],\n",
            "         ...,\n",
            "         [0.37254903, 0.00392157, 0.00392157],\n",
            "         [0.37647063, 0.00392157, 0.        ],\n",
            "         [0.3803922 , 0.00784314, 0.        ]],\n",
            "\n",
            "        [[0.4901961 , 0.00784314, 0.02745098],\n",
            "         [0.4901961 , 0.00784314, 0.02745098],\n",
            "         [0.47450984, 0.        , 0.01960784],\n",
            "         ...,\n",
            "         [0.37254903, 0.00392157, 0.00392157],\n",
            "         [0.37647063, 0.00392157, 0.        ],\n",
            "         [0.3803922 , 0.00784314, 0.        ]],\n",
            "\n",
            "        [[0.4901961 , 0.00784314, 0.02745098],\n",
            "         [0.4901961 , 0.00784314, 0.02745098],\n",
            "         [0.47450984, 0.        , 0.01960784],\n",
            "         ...,\n",
            "         [0.37254903, 0.00392157, 0.00392157],\n",
            "         [0.37647063, 0.00392157, 0.        ],\n",
            "         [0.3803922 , 0.00784314, 0.        ]],\n",
            "\n",
            "        ...,\n",
            "\n",
            "        [[0.        , 0.        , 0.        ],\n",
            "         [0.        , 0.        , 0.        ],\n",
            "         [0.        , 0.        , 0.        ],\n",
            "         ...,\n",
            "         [0.        , 0.        , 0.        ],\n",
            "         [0.        , 0.        , 0.        ],\n",
            "         [0.        , 0.        , 0.        ]],\n",
            "\n",
            "        [[0.        , 0.        , 0.        ],\n",
            "         [0.        , 0.        , 0.        ],\n",
            "         [0.        , 0.        , 0.        ],\n",
            "         ...,\n",
            "         [0.        , 0.        , 0.        ],\n",
            "         [0.        , 0.        , 0.        ],\n",
            "         [0.        , 0.        , 0.        ]],\n",
            "\n",
            "        [[0.        , 0.        , 0.        ],\n",
            "         [0.        , 0.        , 0.        ],\n",
            "         [0.        , 0.        , 0.        ],\n",
            "         ...,\n",
            "         [0.        , 0.        , 0.        ],\n",
            "         [0.        , 0.        , 0.        ],\n",
            "         [0.        , 0.        , 0.        ]]],\n",
            "\n",
            "\n",
            "       [[[0.7058824 , 0.37254903, 0.2509804 ],\n",
            "         [0.7058824 , 0.37254903, 0.2509804 ],\n",
            "         [0.70980394, 0.37647063, 0.25490198],\n",
            "         ...,\n",
            "         [0.63529414, 0.7294118 , 0.6784314 ],\n",
            "         [0.63529414, 0.7294118 , 0.6784314 ],\n",
            "         [0.6313726 , 0.7254902 , 0.6745098 ]],\n",
            "\n",
            "        [[0.7058824 , 0.37254903, 0.2509804 ],\n",
            "         [0.70980394, 0.37647063, 0.25490198],\n",
            "         [0.7137255 , 0.3803922 , 0.25882354],\n",
            "         ...,\n",
            "         [0.63529414, 0.7294118 , 0.6784314 ],\n",
            "         [0.63529414, 0.7294118 , 0.6784314 ],\n",
            "         [0.63529414, 0.7294118 , 0.6784314 ]],\n",
            "\n",
            "        [[0.7137255 , 0.38431376, 0.2509804 ],\n",
            "         [0.7137255 , 0.38431376, 0.2509804 ],\n",
            "         [0.7176471 , 0.38823533, 0.25490198],\n",
            "         ...,\n",
            "         [0.63529414, 0.7294118 , 0.6784314 ],\n",
            "         [0.63529414, 0.7294118 , 0.6784314 ],\n",
            "         [0.63529414, 0.7294118 , 0.6784314 ]],\n",
            "\n",
            "        ...,\n",
            "\n",
            "        [[0.7960785 , 0.5176471 , 0.40784317],\n",
            "         [0.8117648 , 0.53333336, 0.42352945],\n",
            "         [0.8313726 , 0.56078434, 0.43921572],\n",
            "         ...,\n",
            "         [0.5882353 , 0.7137255 , 0.69411767],\n",
            "         [0.5803922 , 0.7176471 , 0.69411767],\n",
            "         [0.5803922 , 0.7176471 , 0.69411767]],\n",
            "\n",
            "        [[0.81568635, 0.5372549 , 0.41960788],\n",
            "         [0.82745105, 0.54901963, 0.43137258],\n",
            "         [0.83921576, 0.5686275 , 0.44705886],\n",
            "         ...,\n",
            "         [0.5882353 , 0.7137255 , 0.69411767],\n",
            "         [0.5803922 , 0.7176471 , 0.69411767],\n",
            "         [0.5803922 , 0.7176471 , 0.69411767]],\n",
            "\n",
            "        [[0.8588236 , 0.5803922 , 0.46274513],\n",
            "         [0.86274517, 0.58431375, 0.4666667 ],\n",
            "         [0.86666673, 0.59607846, 0.47450984],\n",
            "         ...,\n",
            "         [0.5882353 , 0.7137255 , 0.69411767],\n",
            "         [0.5803922 , 0.7176471 , 0.69411767],\n",
            "         [0.5803922 , 0.7176471 , 0.69411767]]],\n",
            "\n",
            "\n",
            "       ...,\n",
            "\n",
            "\n",
            "       [[[0.4901961 , 0.32941177, 0.34509805],\n",
            "         [0.49411768, 0.33333334, 0.34901962],\n",
            "         [0.49803925, 0.3372549 , 0.3529412 ],\n",
            "         ...,\n",
            "         [0.7725491 , 0.5058824 , 0.454902  ],\n",
            "         [0.75294125, 0.48627454, 0.43529415],\n",
            "         [0.73333335, 0.4666667 , 0.4156863 ]],\n",
            "\n",
            "        [[0.4901961 , 0.32941177, 0.34509805],\n",
            "         [0.49411768, 0.33333334, 0.34901962],\n",
            "         [0.49803925, 0.3372549 , 0.3529412 ],\n",
            "         ...,\n",
            "         [0.7803922 , 0.5137255 , 0.46274513],\n",
            "         [0.7607844 , 0.49411768, 0.4431373 ],\n",
            "         [0.74509805, 0.4784314 , 0.427451  ]],\n",
            "\n",
            "        [[0.48627454, 0.3254902 , 0.34117648],\n",
            "         [0.49411768, 0.33333334, 0.34901962],\n",
            "         [0.5019608 , 0.34117648, 0.35686275],\n",
            "         ...,\n",
            "         [0.79215693, 0.5254902 , 0.47450984],\n",
            "         [0.7725491 , 0.5058824 , 0.454902  ],\n",
            "         [0.7568628 , 0.4901961 , 0.43921572]],\n",
            "\n",
            "        ...,\n",
            "\n",
            "        [[0.94117653, 0.78823537, 0.7686275 ],\n",
            "         [0.94117653, 0.78823537, 0.7686275 ],\n",
            "         [0.93725497, 0.7843138 , 0.76470596],\n",
            "         ...,\n",
            "         [0.7686275 , 0.49411768, 0.44705886],\n",
            "         [0.77647066, 0.5019608 , 0.454902  ],\n",
            "         [0.7803922 , 0.5058824 , 0.45882356]],\n",
            "\n",
            "        [[0.94117653, 0.7803922 , 0.76470596],\n",
            "         [0.94117653, 0.7803922 , 0.76470596],\n",
            "         [0.94117653, 0.7803922 , 0.76470596],\n",
            "         ...,\n",
            "         [0.7725491 , 0.49803925, 0.45098042],\n",
            "         [0.77647066, 0.5019608 , 0.454902  ],\n",
            "         [0.7803922 , 0.5058824 , 0.45882356]],\n",
            "\n",
            "        [[0.9450981 , 0.7725491 , 0.7607844 ],\n",
            "         [0.9450981 , 0.7725491 , 0.7607844 ],\n",
            "         [0.93725497, 0.77647066, 0.7607844 ],\n",
            "         ...,\n",
            "         [0.7725491 , 0.49803925, 0.45098042],\n",
            "         [0.7803922 , 0.5058824 , 0.45882356],\n",
            "         [0.7803922 , 0.5058824 , 0.45882356]]],\n",
            "\n",
            "\n",
            "       [[[0.40784317, 0.26666668, 0.36862746],\n",
            "         [0.41960788, 0.2784314 , 0.3803922 ],\n",
            "         [0.4156863 , 0.26666668, 0.3647059 ],\n",
            "         ...,\n",
            "         [0.43921572, 0.27058825, 0.44705886],\n",
            "         [0.36862746, 0.21960786, 0.4039216 ],\n",
            "         [0.30588236, 0.16470589, 0.34509805]],\n",
            "\n",
            "        [[0.4039216 , 0.2627451 , 0.3647059 ],\n",
            "         [0.40784317, 0.26666668, 0.36862746],\n",
            "         [0.39607847, 0.24705884, 0.34509805],\n",
            "         ...,\n",
            "         [0.45098042, 0.28235295, 0.45882356],\n",
            "         [0.37647063, 0.23137257, 0.4039216 ],\n",
            "         [0.3137255 , 0.17254902, 0.3529412 ]],\n",
            "\n",
            "        [[0.39607847, 0.25490198, 0.35686275],\n",
            "         [0.3921569 , 0.2509804 , 0.3529412 ],\n",
            "         [0.3647059 , 0.21568629, 0.3137255 ],\n",
            "         ...,\n",
            "         [0.4666667 , 0.29803923, 0.47450984],\n",
            "         [0.3921569 , 0.24705884, 0.41960788],\n",
            "         [0.3137255 , 0.18431373, 0.3529412 ]],\n",
            "\n",
            "        ...,\n",
            "\n",
            "        [[0.5568628 , 0.16862746, 0.2784314 ],\n",
            "         [0.5568628 , 0.16862746, 0.2784314 ],\n",
            "         [0.56078434, 0.1764706 , 0.27450982],\n",
            "         ...,\n",
            "         [0.909804  , 0.4901961 , 0.5921569 ],\n",
            "         [0.8745099 , 0.454902  , 0.5647059 ],\n",
            "         [0.7803922 , 0.36078432, 0.47058827]],\n",
            "\n",
            "        [[0.5568628 , 0.16862746, 0.2784314 ],\n",
            "         [0.56078434, 0.17254902, 0.28235295],\n",
            "         [0.5686275 , 0.1764706 , 0.2784314 ],\n",
            "         ...,\n",
            "         [0.882353  , 0.46274513, 0.57254905],\n",
            "         [0.8470589 , 0.427451  , 0.5372549 ],\n",
            "         [0.7568628 , 0.3372549 , 0.44705886]],\n",
            "\n",
            "        [[0.56078434, 0.17254902, 0.28235295],\n",
            "         [0.56078434, 0.17254902, 0.28235295],\n",
            "         [0.5686275 , 0.1764706 , 0.2784314 ],\n",
            "         ...,\n",
            "         [0.854902  , 0.43529415, 0.54509807],\n",
            "         [0.8235295 , 0.4039216 , 0.5137255 ],\n",
            "         [0.7294118 , 0.30980393, 0.41960788]]],\n",
            "\n",
            "\n",
            "       [[[0.47450984, 0.33333334, 0.37254903],\n",
            "         [0.4666667 , 0.3254902 , 0.3647059 ],\n",
            "         [0.4431373 , 0.30980393, 0.3647059 ],\n",
            "         ...,\n",
            "         [0.73333335, 0.4784314 , 0.454902  ],\n",
            "         [0.7294118 , 0.4666667 , 0.4431373 ],\n",
            "         [0.72156864, 0.45882356, 0.43529415]],\n",
            "\n",
            "        [[0.47450984, 0.33333334, 0.37254903],\n",
            "         [0.4666667 , 0.3254902 , 0.3647059 ],\n",
            "         [0.4431373 , 0.30980393, 0.3647059 ],\n",
            "         ...,\n",
            "         [0.7372549 , 0.48235297, 0.45882356],\n",
            "         [0.73333335, 0.47058827, 0.44705886],\n",
            "         [0.72156864, 0.45882356, 0.43529415]],\n",
            "\n",
            "        [[0.46274513, 0.33333334, 0.36862746],\n",
            "         [0.454902  , 0.3254902 , 0.36078432],\n",
            "         [0.4431373 , 0.30980393, 0.3647059 ],\n",
            "         ...,\n",
            "         [0.7411765 , 0.48627454, 0.46274513],\n",
            "         [0.7372549 , 0.47450984, 0.45098042],\n",
            "         [0.7294118 , 0.4666667 , 0.4431373 ]],\n",
            "\n",
            "        ...,\n",
            "\n",
            "        [[0.6392157 , 0.427451  , 0.427451  ],\n",
            "         [0.627451  , 0.4156863 , 0.4156863 ],\n",
            "         [0.60784316, 0.39607847, 0.39607847],\n",
            "         ...,\n",
            "         [0.8862746 , 0.6509804 , 0.60784316],\n",
            "         [0.882353  , 0.64705884, 0.6039216 ],\n",
            "         [0.87843144, 0.6431373 , 0.6       ]],\n",
            "\n",
            "        [[0.6392157 , 0.427451  , 0.427451  ],\n",
            "         [0.627451  , 0.4156863 , 0.4156863 ],\n",
            "         [0.60784316, 0.39607847, 0.39607847],\n",
            "         ...,\n",
            "         [0.89019614, 0.654902  , 0.6117647 ],\n",
            "         [0.882353  , 0.64705884, 0.6039216 ],\n",
            "         [0.882353  , 0.64705884, 0.6039216 ]],\n",
            "\n",
            "        [[0.6392157 , 0.427451  , 0.427451  ],\n",
            "         [0.62352943, 0.41176474, 0.41176474],\n",
            "         [0.60784316, 0.39607847, 0.39607847],\n",
            "         ...,\n",
            "         [0.89019614, 0.654902  , 0.6117647 ],\n",
            "         [0.882353  , 0.64705884, 0.6039216 ],\n",
            "         [0.882353  , 0.64705884, 0.6039216 ]]]], dtype=float32)>, 'label': <tf.Tensor: shape=(43, 4), dtype=float32, numpy=\n",
            "array([[0., 0., 0., 1.],\n",
            "       [0., 0., 1., 0.],\n",
            "       [0., 0., 1., 0.],\n",
            "       [0., 0., 1., 0.],\n",
            "       [0., 0., 1., 0.],\n",
            "       [0., 1., 0., 0.],\n",
            "       [0., 0., 1., 0.],\n",
            "       [0., 0., 0., 1.],\n",
            "       [0., 1., 0., 0.],\n",
            "       [0., 0., 1., 0.],\n",
            "       [0., 1., 0., 0.],\n",
            "       [1., 0., 0., 0.],\n",
            "       [1., 0., 0., 0.],\n",
            "       [1., 0., 0., 0.],\n",
            "       [0., 1., 0., 0.],\n",
            "       [0., 0., 1., 0.],\n",
            "       [1., 0., 0., 0.],\n",
            "       [0., 1., 0., 0.],\n",
            "       [0., 0., 0., 1.],\n",
            "       [0., 0., 1., 0.],\n",
            "       [0., 0., 0., 1.],\n",
            "       [0., 0., 0., 1.],\n",
            "       [0., 0., 0., 1.],\n",
            "       [0., 0., 0., 1.],\n",
            "       [0., 0., 0., 1.],\n",
            "       [0., 0., 1., 0.],\n",
            "       [1., 0., 0., 0.],\n",
            "       [0., 1., 0., 0.],\n",
            "       [0., 1., 0., 0.],\n",
            "       [0., 0., 1., 0.],\n",
            "       [1., 0., 0., 0.],\n",
            "       [0., 0., 1., 0.],\n",
            "       [0., 1., 0., 0.],\n",
            "       [0., 1., 0., 0.],\n",
            "       [1., 0., 0., 0.],\n",
            "       [0., 1., 0., 0.],\n",
            "       [0., 0., 1., 0.],\n",
            "       [0., 0., 0., 1.],\n",
            "       [0., 0., 1., 0.],\n",
            "       [1., 0., 0., 0.],\n",
            "       [0., 0., 0., 1.],\n",
            "       [1., 0., 0., 0.],\n",
            "       [0., 1., 0., 0.]], dtype=float32)>}\n"
          ],
          "name": "stdout"
        }
      ]
    },
    {
      "cell_type": "code",
      "metadata": {
        "id": "k1J5bZDxwoju",
        "colab_type": "code",
        "colab": {}
      },
      "source": [
        "adv_config=nsl.configs.make_adv_reg_config(adv_step_size=0.05,multiplier=0.2)"
      ],
      "execution_count": 0,
      "outputs": []
    },
    {
      "cell_type": "code",
      "metadata": {
        "id": "fpEKUs4Lxl9T",
        "colab_type": "code",
        "colab": {}
      },
      "source": [
        "adv_model=nsl.keras.AdversarialRegularization(fc_model,adv_config=adv_config)"
      ],
      "execution_count": 0,
      "outputs": []
    },
    {
      "cell_type": "code",
      "metadata": {
        "id": "7w9_4C6fIXn8",
        "colab_type": "code",
        "colab": {}
      },
      "source": [
        "from tensorflow.keras.callbacks import ModelCheckpoint\n",
        "filepath=\"cp/weights-{epoch:02d}-{val_loss:.3f}.hdf5\"\n",
        "checkpoint = ModelCheckpoint(filepath, monitor='val_loss', verbose=1, save_best_only=True, mode='min')\n",
        "# callbacks_list = [checkpoint]"
      ],
      "execution_count": 0,
      "outputs": []
    },
    {
      "cell_type": "code",
      "metadata": {
        "id": "edWd4w92IXwC",
        "colab_type": "code",
        "colab": {}
      },
      "source": [
        "!mkdir cp"
      ],
      "execution_count": 0,
      "outputs": []
    },
    {
      "cell_type": "code",
      "metadata": {
        "id": "iWXaTjIYIX0w",
        "colab_type": "code",
        "colab": {}
      },
      "source": [
        "def step_decay(epoch):\n",
        "  initial_lrate = 0.01\n",
        "  drop = 0.5\n",
        "\n",
        "  epochs_drop = 50.0\n",
        "\n",
        "\n",
        "  lrate = initial_lrate * math.pow(drop, math.floor((1+epoch)/epochs_drop))\n",
        "\n",
        "  return lrate"
      ],
      "execution_count": 0,
      "outputs": []
    },
    {
      "cell_type": "code",
      "metadata": {
        "id": "7Jbpjf6-IpZo",
        "colab_type": "code",
        "colab": {}
      },
      "source": [
        "from tensorflow.keras.callbacks import LearningRateScheduler"
      ],
      "execution_count": 0,
      "outputs": []
    },
    {
      "cell_type": "code",
      "metadata": {
        "id": "daOCkkN9IpiI",
        "colab_type": "code",
        "colab": {}
      },
      "source": [
        "import math\n",
        "\n",
        "lrate = LearningRateScheduler(step_decay)\n",
        "callbacks_list = [checkpoint,lrate]"
      ],
      "execution_count": 0,
      "outputs": []
    },
    {
      "cell_type": "code",
      "metadata": {
        "id": "rVOqWfG-Ipl8",
        "colab_type": "code",
        "colab": {}
      },
      "source": [
        ""
      ],
      "execution_count": 0,
      "outputs": []
    },
    {
      "cell_type": "code",
      "metadata": {
        "id": "GrFKJ_wuxpA8",
        "colab_type": "code",
        "colab": {}
      },
      "source": [
        "adv_model.compile(optimizer = Adam(learning_rate=0.01), \n",
        "              loss = 'categorical_crossentropy', \n",
        "              metrics = ['accuracy'])"
      ],
      "execution_count": 0,
      "outputs": []
    },
    {
      "cell_type": "code",
      "metadata": {
        "id": "MAeHDwlJxr7Z",
        "colab_type": "code",
        "outputId": "97d5e02c-3807-4d7b-d92b-ff33ffc33fa1",
        "colab": {
          "base_uri": "https://localhost:8080/",
          "height": 1000
        }
      },
      "source": [
        "history = adv_model.fit(train_set_for_adv_model,epochs=250,validation_data=test_set_for_adv_model,callbacks=callbacks_list)"
      ],
      "execution_count": 0,
      "outputs": [
        {
          "output_type": "stream",
          "text": [
            "155/155 [==============================] - ETA: 0s - loss: 0.0705 - categorical_crossentropy: 0.0564 - categorical_accuracy: 0.9812 - adversarial_loss: 0.0707\n",
            "Epoch 00187: val_loss did not improve from 0.00264\n",
            "155/155 [==============================] - 81s 520ms/step - loss: 0.0705 - categorical_crossentropy: 0.0564 - categorical_accuracy: 0.9812 - adversarial_loss: 0.0707 - val_loss: 0.0038 - val_categorical_crossentropy: 0.0026 - val_categorical_accuracy: 1.0000 - val_adversarial_loss: 0.0061 - lr: 0.0012\n",
            "Epoch 188/250\n",
            "155/155 [==============================] - ETA: 0s - loss: 0.0733 - categorical_crossentropy: 0.0562 - categorical_accuracy: 0.9796 - adversarial_loss: 0.0857\n",
            "Epoch 00188: val_loss did not improve from 0.00264\n",
            "155/155 [==============================] - 80s 519ms/step - loss: 0.0733 - categorical_crossentropy: 0.0562 - categorical_accuracy: 0.9796 - adversarial_loss: 0.0857 - val_loss: 0.0033 - val_categorical_crossentropy: 0.0023 - val_categorical_accuracy: 1.0000 - val_adversarial_loss: 0.0053 - lr: 0.0012\n",
            "Epoch 189/250\n",
            "155/155 [==============================] - ETA: 0s - loss: 0.0667 - categorical_crossentropy: 0.0522 - categorical_accuracy: 0.9821 - adversarial_loss: 0.0721\n",
            "Epoch 00189: val_loss did not improve from 0.00264\n",
            "155/155 [==============================] - 80s 515ms/step - loss: 0.0667 - categorical_crossentropy: 0.0522 - categorical_accuracy: 0.9821 - adversarial_loss: 0.0721 - val_loss: 0.0031 - val_categorical_crossentropy: 0.0021 - val_categorical_accuracy: 1.0000 - val_adversarial_loss: 0.0050 - lr: 0.0012\n",
            "Epoch 190/250\n",
            "155/155 [==============================] - ETA: 0s - loss: 0.0606 - categorical_crossentropy: 0.0462 - categorical_accuracy: 0.9841 - adversarial_loss: 0.0721\n",
            "Epoch 00190: val_loss improved from 0.00264 to 0.00257, saving model to cp/weights-190-0.003.hdf5\n",
            "155/155 [==============================] - 82s 528ms/step - loss: 0.0606 - categorical_crossentropy: 0.0462 - categorical_accuracy: 0.9841 - adversarial_loss: 0.0721 - val_loss: 0.0026 - val_categorical_crossentropy: 0.0017 - val_categorical_accuracy: 1.0000 - val_adversarial_loss: 0.0042 - lr: 0.0012\n",
            "Epoch 191/250\n",
            "155/155 [==============================] - ETA: 0s - loss: 0.0675 - categorical_crossentropy: 0.0533 - categorical_accuracy: 0.9824 - adversarial_loss: 0.0705\n",
            "Epoch 00191: val_loss did not improve from 0.00257\n",
            "155/155 [==============================] - 80s 513ms/step - loss: 0.0675 - categorical_crossentropy: 0.0533 - categorical_accuracy: 0.9824 - adversarial_loss: 0.0705 - val_loss: 0.0029 - val_categorical_crossentropy: 0.0020 - val_categorical_accuracy: 1.0000 - val_adversarial_loss: 0.0044 - lr: 0.0012\n",
            "Epoch 192/250\n",
            "155/155 [==============================] - ETA: 0s - loss: 0.0780 - categorical_crossentropy: 0.0609 - categorical_accuracy: 0.9764 - adversarial_loss: 0.0854\n",
            "Epoch 00192: val_loss did not improve from 0.00257\n",
            "155/155 [==============================] - 80s 514ms/step - loss: 0.0780 - categorical_crossentropy: 0.0609 - categorical_accuracy: 0.9764 - adversarial_loss: 0.0854 - val_loss: 0.0034 - val_categorical_crossentropy: 0.0024 - val_categorical_accuracy: 1.0000 - val_adversarial_loss: 0.0054 - lr: 0.0012\n",
            "Epoch 193/250\n",
            "155/155 [==============================] - ETA: 0s - loss: 0.0716 - categorical_crossentropy: 0.0579 - categorical_accuracy: 0.9791 - adversarial_loss: 0.0685\n",
            "Epoch 00193: val_loss did not improve from 0.00257\n",
            "155/155 [==============================] - 80s 514ms/step - loss: 0.0716 - categorical_crossentropy: 0.0579 - categorical_accuracy: 0.9791 - adversarial_loss: 0.0685 - val_loss: 0.0031 - val_categorical_crossentropy: 0.0021 - val_categorical_accuracy: 1.0000 - val_adversarial_loss: 0.0049 - lr: 0.0012\n",
            "Epoch 194/250\n",
            "155/155 [==============================] - ETA: 0s - loss: 0.0685 - categorical_crossentropy: 0.0535 - categorical_accuracy: 0.9823 - adversarial_loss: 0.0752\n",
            "Epoch 00194: val_loss did not improve from 0.00257\n",
            "155/155 [==============================] - 79s 513ms/step - loss: 0.0685 - categorical_crossentropy: 0.0535 - categorical_accuracy: 0.9823 - adversarial_loss: 0.0752 - val_loss: 0.0032 - val_categorical_crossentropy: 0.0022 - val_categorical_accuracy: 1.0000 - val_adversarial_loss: 0.0050 - lr: 0.0012\n",
            "Epoch 195/250\n",
            "155/155 [==============================] - ETA: 0s - loss: 0.0721 - categorical_crossentropy: 0.0559 - categorical_accuracy: 0.9806 - adversarial_loss: 0.0810\n",
            "Epoch 00195: val_loss improved from 0.00257 to 0.00243, saving model to cp/weights-195-0.002.hdf5\n",
            "155/155 [==============================] - 82s 529ms/step - loss: 0.0721 - categorical_crossentropy: 0.0559 - categorical_accuracy: 0.9806 - adversarial_loss: 0.0810 - val_loss: 0.0024 - val_categorical_crossentropy: 0.0017 - val_categorical_accuracy: 1.0000 - val_adversarial_loss: 0.0038 - lr: 0.0012\n",
            "Epoch 196/250\n",
            "155/155 [==============================] - ETA: 0s - loss: 0.0655 - categorical_crossentropy: 0.0518 - categorical_accuracy: 0.9826 - adversarial_loss: 0.0686\n",
            "Epoch 00196: val_loss improved from 0.00243 to 0.00218, saving model to cp/weights-196-0.002.hdf5\n",
            "155/155 [==============================] - 82s 530ms/step - loss: 0.0655 - categorical_crossentropy: 0.0518 - categorical_accuracy: 0.9826 - adversarial_loss: 0.0686 - val_loss: 0.0022 - val_categorical_crossentropy: 0.0015 - val_categorical_accuracy: 1.0000 - val_adversarial_loss: 0.0035 - lr: 0.0012\n",
            "Epoch 197/250\n",
            "155/155 [==============================] - ETA: 0s - loss: 0.0612 - categorical_crossentropy: 0.0468 - categorical_accuracy: 0.9845 - adversarial_loss: 0.0717\n",
            "Epoch 00197: val_loss did not improve from 0.00218\n",
            "155/155 [==============================] - 79s 510ms/step - loss: 0.0612 - categorical_crossentropy: 0.0468 - categorical_accuracy: 0.9845 - adversarial_loss: 0.0717 - val_loss: 0.0027 - val_categorical_crossentropy: 0.0018 - val_categorical_accuracy: 1.0000 - val_adversarial_loss: 0.0043 - lr: 0.0012\n",
            "Epoch 198/250\n",
            "155/155 [==============================] - ETA: 0s - loss: 0.0696 - categorical_crossentropy: 0.0550 - categorical_accuracy: 0.9826 - adversarial_loss: 0.0730\n",
            "Epoch 00198: val_loss did not improve from 0.00218\n",
            "155/155 [==============================] - 79s 510ms/step - loss: 0.0696 - categorical_crossentropy: 0.0550 - categorical_accuracy: 0.9826 - adversarial_loss: 0.0730 - val_loss: 0.0024 - val_categorical_crossentropy: 0.0016 - val_categorical_accuracy: 1.0000 - val_adversarial_loss: 0.0039 - lr: 0.0012\n",
            "Epoch 199/250\n",
            "155/155 [==============================] - ETA: 0s - loss: 0.0715 - categorical_crossentropy: 0.0545 - categorical_accuracy: 0.9808 - adversarial_loss: 0.0851\n",
            "Epoch 00199: val_loss did not improve from 0.00218\n",
            "155/155 [==============================] - 79s 510ms/step - loss: 0.0715 - categorical_crossentropy: 0.0545 - categorical_accuracy: 0.9808 - adversarial_loss: 0.0851 - val_loss: 0.0031 - val_categorical_crossentropy: 0.0021 - val_categorical_accuracy: 1.0000 - val_adversarial_loss: 0.0049 - lr: 0.0012\n",
            "Epoch 200/250\n",
            "155/155 [==============================] - ETA: 0s - loss: 0.0734 - categorical_crossentropy: 0.0574 - categorical_accuracy: 0.9803 - adversarial_loss: 0.0798\n",
            "Epoch 00200: val_loss did not improve from 0.00218\n",
            "155/155 [==============================] - 79s 510ms/step - loss: 0.0734 - categorical_crossentropy: 0.0574 - categorical_accuracy: 0.9803 - adversarial_loss: 0.0798 - val_loss: 0.0028 - val_categorical_crossentropy: 0.0019 - val_categorical_accuracy: 1.0000 - val_adversarial_loss: 0.0044 - lr: 6.2500e-04\n",
            "Epoch 201/250\n",
            "155/155 [==============================] - ETA: 0s - loss: 0.0636 - categorical_crossentropy: 0.0482 - categorical_accuracy: 0.9841 - adversarial_loss: 0.0771\n",
            "Epoch 00201: val_loss did not improve from 0.00218\n",
            "155/155 [==============================] - 79s 510ms/step - loss: 0.0636 - categorical_crossentropy: 0.0482 - categorical_accuracy: 0.9841 - adversarial_loss: 0.0771 - val_loss: 0.0028 - val_categorical_crossentropy: 0.0019 - val_categorical_accuracy: 1.0000 - val_adversarial_loss: 0.0044 - lr: 6.2500e-04\n",
            "Epoch 202/250\n",
            "155/155 [==============================] - ETA: 0s - loss: 0.0577 - categorical_crossentropy: 0.0434 - categorical_accuracy: 0.9842 - adversarial_loss: 0.0714\n",
            "Epoch 00202: val_loss did not improve from 0.00218\n",
            "155/155 [==============================] - 79s 509ms/step - loss: 0.0577 - categorical_crossentropy: 0.0434 - categorical_accuracy: 0.9842 - adversarial_loss: 0.0714 - val_loss: 0.0023 - val_categorical_crossentropy: 0.0016 - val_categorical_accuracy: 1.0000 - val_adversarial_loss: 0.0037 - lr: 6.2500e-04\n",
            "Epoch 203/250\n",
            "155/155 [==============================] - ETA: 0s - loss: 0.0676 - categorical_crossentropy: 0.0537 - categorical_accuracy: 0.9799 - adversarial_loss: 0.0699\n",
            "Epoch 00203: val_loss did not improve from 0.00218\n",
            "155/155 [==============================] - 79s 509ms/step - loss: 0.0676 - categorical_crossentropy: 0.0537 - categorical_accuracy: 0.9799 - adversarial_loss: 0.0699 - val_loss: 0.0026 - val_categorical_crossentropy: 0.0018 - val_categorical_accuracy: 1.0000 - val_adversarial_loss: 0.0041 - lr: 6.2500e-04\n",
            "Epoch 204/250\n",
            "155/155 [==============================] - ETA: 0s - loss: 0.0664 - categorical_crossentropy: 0.0531 - categorical_accuracy: 0.9824 - adversarial_loss: 0.0665\n",
            "Epoch 00204: val_loss did not improve from 0.00218\n",
            "155/155 [==============================] - 79s 509ms/step - loss: 0.0664 - categorical_crossentropy: 0.0531 - categorical_accuracy: 0.9824 - adversarial_loss: 0.0665 - val_loss: 0.0031 - val_categorical_crossentropy: 0.0021 - val_categorical_accuracy: 1.0000 - val_adversarial_loss: 0.0050 - lr: 6.2500e-04\n",
            "Epoch 205/250\n",
            "155/155 [==============================] - ETA: 0s - loss: 0.0605 - categorical_crossentropy: 0.0458 - categorical_accuracy: 0.9841 - adversarial_loss: 0.0731\n",
            "Epoch 00205: val_loss did not improve from 0.00218\n",
            "155/155 [==============================] - 79s 510ms/step - loss: 0.0605 - categorical_crossentropy: 0.0458 - categorical_accuracy: 0.9841 - adversarial_loss: 0.0731 - val_loss: 0.0024 - val_categorical_crossentropy: 0.0016 - val_categorical_accuracy: 1.0000 - val_adversarial_loss: 0.0039 - lr: 6.2500e-04\n",
            "Epoch 206/250\n",
            "155/155 [==============================] - ETA: 0s - loss: 0.0683 - categorical_crossentropy: 0.0541 - categorical_accuracy: 0.9788 - adversarial_loss: 0.0709\n",
            "Epoch 00206: val_loss did not improve from 0.00218\n",
            "155/155 [==============================] - 79s 509ms/step - loss: 0.0683 - categorical_crossentropy: 0.0541 - categorical_accuracy: 0.9788 - adversarial_loss: 0.0709 - val_loss: 0.0026 - val_categorical_crossentropy: 0.0018 - val_categorical_accuracy: 1.0000 - val_adversarial_loss: 0.0042 - lr: 6.2500e-04\n",
            "Epoch 207/250\n",
            "155/155 [==============================] - ETA: 0s - loss: 0.0710 - categorical_crossentropy: 0.0556 - categorical_accuracy: 0.9812 - adversarial_loss: 0.0773\n",
            "Epoch 00207: val_loss did not improve from 0.00218\n",
            "155/155 [==============================] - 79s 509ms/step - loss: 0.0710 - categorical_crossentropy: 0.0556 - categorical_accuracy: 0.9812 - adversarial_loss: 0.0773 - val_loss: 0.0033 - val_categorical_crossentropy: 0.0022 - val_categorical_accuracy: 1.0000 - val_adversarial_loss: 0.0052 - lr: 6.2500e-04\n",
            "Epoch 208/250\n",
            "155/155 [==============================] - ETA: 0s - loss: 0.0673 - categorical_crossentropy: 0.0511 - categorical_accuracy: 0.9806 - adversarial_loss: 0.0811\n",
            "Epoch 00208: val_loss did not improve from 0.00218\n",
            "155/155 [==============================] - 79s 509ms/step - loss: 0.0673 - categorical_crossentropy: 0.0511 - categorical_accuracy: 0.9806 - adversarial_loss: 0.0811 - val_loss: 0.0024 - val_categorical_crossentropy: 0.0017 - val_categorical_accuracy: 1.0000 - val_adversarial_loss: 0.0038 - lr: 6.2500e-04\n",
            "Epoch 209/250\n",
            "155/155 [==============================] - ETA: 0s - loss: 0.0616 - categorical_crossentropy: 0.0470 - categorical_accuracy: 0.9826 - adversarial_loss: 0.0729\n",
            "Epoch 00209: val_loss did not improve from 0.00218\n",
            "155/155 [==============================] - 79s 508ms/step - loss: 0.0616 - categorical_crossentropy: 0.0470 - categorical_accuracy: 0.9826 - adversarial_loss: 0.0729 - val_loss: 0.0023 - val_categorical_crossentropy: 0.0016 - val_categorical_accuracy: 1.0000 - val_adversarial_loss: 0.0038 - lr: 6.2500e-04\n",
            "Epoch 210/250\n",
            " 19/155 [==>...........................] - ETA: 59s - loss: 0.0697 - categorical_crossentropy: 0.0570 - categorical_accuracy: 0.9853 - adversarial_loss: 0.0635 "
          ],
          "name": "stdout"
        },
        {
          "output_type": "error",
          "ename": "KeyboardInterrupt",
          "evalue": "ignored",
          "traceback": [
            "\u001b[0;31m---------------------------------------------------------------------------\u001b[0m",
            "\u001b[0;31mKeyboardInterrupt\u001b[0m                         Traceback (most recent call last)",
            "\u001b[0;32m<ipython-input-38-e2eb90204b9f>\u001b[0m in \u001b[0;36m<module>\u001b[0;34m()\u001b[0m\n\u001b[0;32m----> 1\u001b[0;31m \u001b[0mhistory\u001b[0m \u001b[0;34m=\u001b[0m \u001b[0madv_model\u001b[0m\u001b[0;34m.\u001b[0m\u001b[0mfit\u001b[0m\u001b[0;34m(\u001b[0m\u001b[0mtrain_set_for_adv_model\u001b[0m\u001b[0;34m,\u001b[0m\u001b[0mepochs\u001b[0m\u001b[0;34m=\u001b[0m\u001b[0;36m250\u001b[0m\u001b[0;34m,\u001b[0m\u001b[0mvalidation_data\u001b[0m\u001b[0;34m=\u001b[0m\u001b[0mtest_set_for_adv_model\u001b[0m\u001b[0;34m,\u001b[0m\u001b[0mcallbacks\u001b[0m\u001b[0;34m=\u001b[0m\u001b[0mcallbacks_list\u001b[0m\u001b[0;34m)\u001b[0m\u001b[0;34m\u001b[0m\u001b[0;34m\u001b[0m\u001b[0m\n\u001b[0m",
            "\u001b[0;32m/usr/local/lib/python3.6/dist-packages/tensorflow/python/keras/engine/training.py\u001b[0m in \u001b[0;36m_method_wrapper\u001b[0;34m(self, *args, **kwargs)\u001b[0m\n\u001b[1;32m     64\u001b[0m   \u001b[0;32mdef\u001b[0m \u001b[0m_method_wrapper\u001b[0m\u001b[0;34m(\u001b[0m\u001b[0mself\u001b[0m\u001b[0;34m,\u001b[0m \u001b[0;34m*\u001b[0m\u001b[0margs\u001b[0m\u001b[0;34m,\u001b[0m \u001b[0;34m**\u001b[0m\u001b[0mkwargs\u001b[0m\u001b[0;34m)\u001b[0m\u001b[0;34m:\u001b[0m\u001b[0;34m\u001b[0m\u001b[0;34m\u001b[0m\u001b[0m\n\u001b[1;32m     65\u001b[0m     \u001b[0;32mif\u001b[0m \u001b[0;32mnot\u001b[0m \u001b[0mself\u001b[0m\u001b[0;34m.\u001b[0m\u001b[0m_in_multi_worker_mode\u001b[0m\u001b[0;34m(\u001b[0m\u001b[0;34m)\u001b[0m\u001b[0;34m:\u001b[0m  \u001b[0;31m# pylint: disable=protected-access\u001b[0m\u001b[0;34m\u001b[0m\u001b[0;34m\u001b[0m\u001b[0m\n\u001b[0;32m---> 66\u001b[0;31m       \u001b[0;32mreturn\u001b[0m \u001b[0mmethod\u001b[0m\u001b[0;34m(\u001b[0m\u001b[0mself\u001b[0m\u001b[0;34m,\u001b[0m \u001b[0;34m*\u001b[0m\u001b[0margs\u001b[0m\u001b[0;34m,\u001b[0m \u001b[0;34m**\u001b[0m\u001b[0mkwargs\u001b[0m\u001b[0;34m)\u001b[0m\u001b[0;34m\u001b[0m\u001b[0;34m\u001b[0m\u001b[0m\n\u001b[0m\u001b[1;32m     67\u001b[0m \u001b[0;34m\u001b[0m\u001b[0m\n\u001b[1;32m     68\u001b[0m     \u001b[0;31m# Running inside `run_distribute_coordinator` already.\u001b[0m\u001b[0;34m\u001b[0m\u001b[0;34m\u001b[0m\u001b[0;34m\u001b[0m\u001b[0m\n",
            "\u001b[0;32m/usr/local/lib/python3.6/dist-packages/tensorflow/python/keras/engine/training.py\u001b[0m in \u001b[0;36mfit\u001b[0;34m(self, x, y, batch_size, epochs, verbose, callbacks, validation_split, validation_data, shuffle, class_weight, sample_weight, initial_epoch, steps_per_epoch, validation_steps, validation_batch_size, validation_freq, max_queue_size, workers, use_multiprocessing, **kwargs)\u001b[0m\n\u001b[1;32m    783\u001b[0m                 batch_size=batch_size):\n\u001b[1;32m    784\u001b[0m               \u001b[0mcallbacks\u001b[0m\u001b[0;34m.\u001b[0m\u001b[0mon_train_batch_begin\u001b[0m\u001b[0;34m(\u001b[0m\u001b[0mstep\u001b[0m\u001b[0;34m)\u001b[0m\u001b[0;34m\u001b[0m\u001b[0;34m\u001b[0m\u001b[0m\n\u001b[0;32m--> 785\u001b[0;31m               \u001b[0mtmp_logs\u001b[0m \u001b[0;34m=\u001b[0m \u001b[0mtrain_function\u001b[0m\u001b[0;34m(\u001b[0m\u001b[0miterator\u001b[0m\u001b[0;34m)\u001b[0m\u001b[0;34m\u001b[0m\u001b[0;34m\u001b[0m\u001b[0m\n\u001b[0m\u001b[1;32m    786\u001b[0m               \u001b[0;31m# Catch OutOfRangeError for Datasets of unknown size.\u001b[0m\u001b[0;34m\u001b[0m\u001b[0;34m\u001b[0m\u001b[0;34m\u001b[0m\u001b[0m\n\u001b[1;32m    787\u001b[0m               \u001b[0;31m# This blocks until the batch has finished executing.\u001b[0m\u001b[0;34m\u001b[0m\u001b[0;34m\u001b[0m\u001b[0;34m\u001b[0m\u001b[0m\n",
            "\u001b[0;32m/usr/local/lib/python3.6/dist-packages/tensorflow/python/eager/def_function.py\u001b[0m in \u001b[0;36m__call__\u001b[0;34m(self, *args, **kwds)\u001b[0m\n\u001b[1;32m    578\u001b[0m         \u001b[0mxla_context\u001b[0m\u001b[0;34m.\u001b[0m\u001b[0mExit\u001b[0m\u001b[0;34m(\u001b[0m\u001b[0;34m)\u001b[0m\u001b[0;34m\u001b[0m\u001b[0;34m\u001b[0m\u001b[0m\n\u001b[1;32m    579\u001b[0m     \u001b[0;32melse\u001b[0m\u001b[0;34m:\u001b[0m\u001b[0;34m\u001b[0m\u001b[0;34m\u001b[0m\u001b[0m\n\u001b[0;32m--> 580\u001b[0;31m       \u001b[0mresult\u001b[0m \u001b[0;34m=\u001b[0m \u001b[0mself\u001b[0m\u001b[0;34m.\u001b[0m\u001b[0m_call\u001b[0m\u001b[0;34m(\u001b[0m\u001b[0;34m*\u001b[0m\u001b[0margs\u001b[0m\u001b[0;34m,\u001b[0m \u001b[0;34m**\u001b[0m\u001b[0mkwds\u001b[0m\u001b[0;34m)\u001b[0m\u001b[0;34m\u001b[0m\u001b[0;34m\u001b[0m\u001b[0m\n\u001b[0m\u001b[1;32m    581\u001b[0m \u001b[0;34m\u001b[0m\u001b[0m\n\u001b[1;32m    582\u001b[0m     \u001b[0;32mif\u001b[0m \u001b[0mtracing_count\u001b[0m \u001b[0;34m==\u001b[0m \u001b[0mself\u001b[0m\u001b[0;34m.\u001b[0m\u001b[0m_get_tracing_count\u001b[0m\u001b[0;34m(\u001b[0m\u001b[0;34m)\u001b[0m\u001b[0;34m:\u001b[0m\u001b[0;34m\u001b[0m\u001b[0;34m\u001b[0m\u001b[0m\n",
            "\u001b[0;32m/usr/local/lib/python3.6/dist-packages/tensorflow/python/eager/def_function.py\u001b[0m in \u001b[0;36m_call\u001b[0;34m(self, *args, **kwds)\u001b[0m\n\u001b[1;32m    609\u001b[0m       \u001b[0;31m# In this case we have created variables on the first call, so we run the\u001b[0m\u001b[0;34m\u001b[0m\u001b[0;34m\u001b[0m\u001b[0;34m\u001b[0m\u001b[0m\n\u001b[1;32m    610\u001b[0m       \u001b[0;31m# defunned version which is guaranteed to never create variables.\u001b[0m\u001b[0;34m\u001b[0m\u001b[0;34m\u001b[0m\u001b[0;34m\u001b[0m\u001b[0m\n\u001b[0;32m--> 611\u001b[0;31m       \u001b[0;32mreturn\u001b[0m \u001b[0mself\u001b[0m\u001b[0;34m.\u001b[0m\u001b[0m_stateless_fn\u001b[0m\u001b[0;34m(\u001b[0m\u001b[0;34m*\u001b[0m\u001b[0margs\u001b[0m\u001b[0;34m,\u001b[0m \u001b[0;34m**\u001b[0m\u001b[0mkwds\u001b[0m\u001b[0;34m)\u001b[0m  \u001b[0;31m# pylint: disable=not-callable\u001b[0m\u001b[0;34m\u001b[0m\u001b[0;34m\u001b[0m\u001b[0m\n\u001b[0m\u001b[1;32m    612\u001b[0m     \u001b[0;32melif\u001b[0m \u001b[0mself\u001b[0m\u001b[0;34m.\u001b[0m\u001b[0m_stateful_fn\u001b[0m \u001b[0;32mis\u001b[0m \u001b[0;32mnot\u001b[0m \u001b[0;32mNone\u001b[0m\u001b[0;34m:\u001b[0m\u001b[0;34m\u001b[0m\u001b[0;34m\u001b[0m\u001b[0m\n\u001b[1;32m    613\u001b[0m       \u001b[0;31m# Release the lock early so that multiple threads can perform the call\u001b[0m\u001b[0;34m\u001b[0m\u001b[0;34m\u001b[0m\u001b[0;34m\u001b[0m\u001b[0m\n",
            "\u001b[0;32m/usr/local/lib/python3.6/dist-packages/tensorflow/python/eager/function.py\u001b[0m in \u001b[0;36m__call__\u001b[0;34m(self, *args, **kwargs)\u001b[0m\n\u001b[1;32m   2418\u001b[0m     \u001b[0;32mwith\u001b[0m \u001b[0mself\u001b[0m\u001b[0;34m.\u001b[0m\u001b[0m_lock\u001b[0m\u001b[0;34m:\u001b[0m\u001b[0;34m\u001b[0m\u001b[0;34m\u001b[0m\u001b[0m\n\u001b[1;32m   2419\u001b[0m       \u001b[0mgraph_function\u001b[0m\u001b[0;34m,\u001b[0m \u001b[0margs\u001b[0m\u001b[0;34m,\u001b[0m \u001b[0mkwargs\u001b[0m \u001b[0;34m=\u001b[0m \u001b[0mself\u001b[0m\u001b[0;34m.\u001b[0m\u001b[0m_maybe_define_function\u001b[0m\u001b[0;34m(\u001b[0m\u001b[0margs\u001b[0m\u001b[0;34m,\u001b[0m \u001b[0mkwargs\u001b[0m\u001b[0;34m)\u001b[0m\u001b[0;34m\u001b[0m\u001b[0;34m\u001b[0m\u001b[0m\n\u001b[0;32m-> 2420\u001b[0;31m     \u001b[0;32mreturn\u001b[0m \u001b[0mgraph_function\u001b[0m\u001b[0;34m.\u001b[0m\u001b[0m_filtered_call\u001b[0m\u001b[0;34m(\u001b[0m\u001b[0margs\u001b[0m\u001b[0;34m,\u001b[0m \u001b[0mkwargs\u001b[0m\u001b[0;34m)\u001b[0m  \u001b[0;31m# pylint: disable=protected-access\u001b[0m\u001b[0;34m\u001b[0m\u001b[0;34m\u001b[0m\u001b[0m\n\u001b[0m\u001b[1;32m   2421\u001b[0m \u001b[0;34m\u001b[0m\u001b[0m\n\u001b[1;32m   2422\u001b[0m   \u001b[0;34m@\u001b[0m\u001b[0mproperty\u001b[0m\u001b[0;34m\u001b[0m\u001b[0;34m\u001b[0m\u001b[0m\n",
            "\u001b[0;32m/usr/local/lib/python3.6/dist-packages/tensorflow/python/eager/function.py\u001b[0m in \u001b[0;36m_filtered_call\u001b[0;34m(self, args, kwargs)\u001b[0m\n\u001b[1;32m   1663\u001b[0m          if isinstance(t, (ops.Tensor,\n\u001b[1;32m   1664\u001b[0m                            resource_variable_ops.BaseResourceVariable))),\n\u001b[0;32m-> 1665\u001b[0;31m         self.captured_inputs)\n\u001b[0m\u001b[1;32m   1666\u001b[0m \u001b[0;34m\u001b[0m\u001b[0m\n\u001b[1;32m   1667\u001b[0m   \u001b[0;32mdef\u001b[0m \u001b[0m_call_flat\u001b[0m\u001b[0;34m(\u001b[0m\u001b[0mself\u001b[0m\u001b[0;34m,\u001b[0m \u001b[0margs\u001b[0m\u001b[0;34m,\u001b[0m \u001b[0mcaptured_inputs\u001b[0m\u001b[0;34m,\u001b[0m \u001b[0mcancellation_manager\u001b[0m\u001b[0;34m=\u001b[0m\u001b[0;32mNone\u001b[0m\u001b[0;34m)\u001b[0m\u001b[0;34m:\u001b[0m\u001b[0;34m\u001b[0m\u001b[0;34m\u001b[0m\u001b[0m\n",
            "\u001b[0;32m/usr/local/lib/python3.6/dist-packages/tensorflow/python/eager/function.py\u001b[0m in \u001b[0;36m_call_flat\u001b[0;34m(self, args, captured_inputs, cancellation_manager)\u001b[0m\n\u001b[1;32m   1744\u001b[0m       \u001b[0;31m# No tape is watching; skip to running the function.\u001b[0m\u001b[0;34m\u001b[0m\u001b[0;34m\u001b[0m\u001b[0;34m\u001b[0m\u001b[0m\n\u001b[1;32m   1745\u001b[0m       return self._build_call_outputs(self._inference_function.call(\n\u001b[0;32m-> 1746\u001b[0;31m           ctx, args, cancellation_manager=cancellation_manager))\n\u001b[0m\u001b[1;32m   1747\u001b[0m     forward_backward = self._select_forward_and_backward_functions(\n\u001b[1;32m   1748\u001b[0m         \u001b[0margs\u001b[0m\u001b[0;34m,\u001b[0m\u001b[0;34m\u001b[0m\u001b[0;34m\u001b[0m\u001b[0m\n",
            "\u001b[0;32m/usr/local/lib/python3.6/dist-packages/tensorflow/python/eager/function.py\u001b[0m in \u001b[0;36mcall\u001b[0;34m(self, ctx, args, cancellation_manager)\u001b[0m\n\u001b[1;32m    596\u001b[0m               \u001b[0minputs\u001b[0m\u001b[0;34m=\u001b[0m\u001b[0margs\u001b[0m\u001b[0;34m,\u001b[0m\u001b[0;34m\u001b[0m\u001b[0;34m\u001b[0m\u001b[0m\n\u001b[1;32m    597\u001b[0m               \u001b[0mattrs\u001b[0m\u001b[0;34m=\u001b[0m\u001b[0mattrs\u001b[0m\u001b[0;34m,\u001b[0m\u001b[0;34m\u001b[0m\u001b[0;34m\u001b[0m\u001b[0m\n\u001b[0;32m--> 598\u001b[0;31m               ctx=ctx)\n\u001b[0m\u001b[1;32m    599\u001b[0m         \u001b[0;32melse\u001b[0m\u001b[0;34m:\u001b[0m\u001b[0;34m\u001b[0m\u001b[0;34m\u001b[0m\u001b[0m\n\u001b[1;32m    600\u001b[0m           outputs = execute.execute_with_cancellation(\n",
            "\u001b[0;32m/usr/local/lib/python3.6/dist-packages/tensorflow/python/eager/execute.py\u001b[0m in \u001b[0;36mquick_execute\u001b[0;34m(op_name, num_outputs, inputs, attrs, ctx, name)\u001b[0m\n\u001b[1;32m     58\u001b[0m     \u001b[0mctx\u001b[0m\u001b[0;34m.\u001b[0m\u001b[0mensure_initialized\u001b[0m\u001b[0;34m(\u001b[0m\u001b[0;34m)\u001b[0m\u001b[0;34m\u001b[0m\u001b[0;34m\u001b[0m\u001b[0m\n\u001b[1;32m     59\u001b[0m     tensors = pywrap_tfe.TFE_Py_Execute(ctx._handle, device_name, op_name,\n\u001b[0;32m---> 60\u001b[0;31m                                         inputs, attrs, num_outputs)\n\u001b[0m\u001b[1;32m     61\u001b[0m   \u001b[0;32mexcept\u001b[0m \u001b[0mcore\u001b[0m\u001b[0;34m.\u001b[0m\u001b[0m_NotOkStatusException\u001b[0m \u001b[0;32mas\u001b[0m \u001b[0me\u001b[0m\u001b[0;34m:\u001b[0m\u001b[0;34m\u001b[0m\u001b[0;34m\u001b[0m\u001b[0m\n\u001b[1;32m     62\u001b[0m     \u001b[0;32mif\u001b[0m \u001b[0mname\u001b[0m \u001b[0;32mis\u001b[0m \u001b[0;32mnot\u001b[0m \u001b[0;32mNone\u001b[0m\u001b[0;34m:\u001b[0m\u001b[0;34m\u001b[0m\u001b[0;34m\u001b[0m\u001b[0m\n",
            "\u001b[0;31mKeyboardInterrupt\u001b[0m: "
          ]
        }
      ]
    },
    {
      "cell_type": "code",
      "metadata": {
        "id": "NWIWxp3CIT9b",
        "colab_type": "code",
        "colab": {}
      },
      "source": [
        "!mv /content/cp/weights-196-0.002.hdf5 '/content/drive/My Drive/cp/'"
      ],
      "execution_count": 0,
      "outputs": []
    },
    {
      "cell_type": "code",
      "metadata": {
        "id": "N3XqS72THtgH",
        "colab_type": "code",
        "colab": {}
      },
      "source": [
        "adv_model.load_weights('/content/drive/My Drive/cp/weights-196-0.002.hdf5')"
      ],
      "execution_count": 0,
      "outputs": []
    },
    {
      "cell_type": "code",
      "metadata": {
        "id": "xaw12u6px7_1",
        "colab_type": "code",
        "outputId": "38ac994c-c5dc-40e7-9ad4-c6153bf60895",
        "colab": {
          "base_uri": "https://localhost:8080/",
          "height": 71
        }
      },
      "source": [
        "adv_model.evaluate(test_set_for_adv_model)"
      ],
      "execution_count": 0,
      "outputs": [
        {
          "output_type": "stream",
          "text": [
            "12/12 [==============================] - 6s 508ms/step - loss: 0.0022 - categorical_crossentropy: 0.0015 - categorical_accuracy: 1.0000 - adversarial_loss: 0.0035\n"
          ],
          "name": "stdout"
        },
        {
          "output_type": "execute_result",
          "data": {
            "text/plain": [
              "[0.0021761921234428883, 0.001483021187596023, 1.0, 0.003465855261310935]"
            ]
          },
          "metadata": {
            "tags": []
          },
          "execution_count": 43
        }
      ]
    },
    {
      "cell_type": "code",
      "metadata": {
        "colab_type": "code",
        "id": "-6dBdTCnYi4_",
        "colab": {}
      },
      "source": [
        "# import matplotlib.pyplot as plt\n",
        "# acc = history.history['categorical_accuracy']\n",
        "# val_acc = history.history['val_categorical_accuracy']\n",
        "# loss = history.history['loss']\n",
        "# val_loss = history.history['val_loss']\n",
        "\n",
        "# epochs = range(len(acc))\n",
        "\n",
        "# plt.plot(epochs, acc, 'r', label='Training accuracy')\n",
        "# plt.plot(epochs, val_acc, 'b', label='Validation accuracy')\n",
        "# plt.title('Training and validation accuracy')\n",
        "\n",
        "# plt.figure()\n",
        "\n",
        "# plt.plot(epochs, loss, 'r', label='Training Loss')\n",
        "# plt.plot(epochs, val_loss, 'b', label='Validation Loss')\n",
        "# plt.title('Training and validation loss')\n",
        "# plt.legend()\n",
        "\n",
        "# plt.show()"
      ],
      "execution_count": 0,
      "outputs": []
    },
    {
      "cell_type": "code",
      "metadata": {
        "id": "WCL11uK7HxAU",
        "colab_type": "code",
        "colab": {}
      },
      "source": [
        ""
      ],
      "execution_count": 0,
      "outputs": []
    },
    {
      "cell_type": "code",
      "metadata": {
        "id": "aB39OiJtR-az",
        "colab_type": "code",
        "outputId": "e7473937-6628-41da-95f6-fdbc1de68a99",
        "colab": {
          "base_uri": "https://localhost:8080/",
          "height": 286
        }
      },
      "source": [
        "from PIL import Image\n",
        "\n",
        "img=Image.open('/content/test/test_vgg/lisa/3.large.jpg')\n",
        "\n",
        "plt.imshow(img)"
      ],
      "execution_count": 0,
      "outputs": [
        {
          "output_type": "execute_result",
          "data": {
            "text/plain": [
              "<matplotlib.image.AxesImage at 0x7f3779547828>"
            ]
          },
          "metadata": {
            "tags": []
          },
          "execution_count": 86
        },
        {
          "output_type": "display_data",
          "data": {
            "image/png": "[encoded data removed]",
            "text/plain": [
              "<Figure size 432x288 with 1 Axes>"
            ]
          },
          "metadata": {
            "tags": []
          }
        }
      ]
    },
    {
      "cell_type": "code",
      "metadata": {
        "id": "Ncg8-63ZSoU9",
        "colab_type": "code",
        "colab": {}
      },
      "source": [
        "img=tf.keras.preprocessing.image.img_to_array(img)"
      ],
      "execution_count": 0,
      "outputs": []
    },
    {
      "cell_type": "code",
      "metadata": {
        "id": "DBzg9lKHTDTk",
        "colab_type": "code",
        "colab": {}
      },
      "source": [
        "m=adv_model.base_model"
      ],
      "execution_count": 0,
      "outputs": []
    },
    {
      "cell_type": "code",
      "metadata": {
        "id": "JolmaGSATHK6",
        "colab_type": "code",
        "colab": {}
      },
      "source": [
        "x=tf.expand_dims(img, axis=0)"
      ],
      "execution_count": 0,
      "outputs": []
    },
    {
      "cell_type": "code",
      "metadata": {
        "id": "vMp6B4_1VaYV",
        "colab_type": "code",
        "outputId": "f06586f6-be0e-448a-f8eb-2c1cf772c1cf",
        "colab": {
          "base_uri": "https://localhost:8080/",
          "height": 881
        }
      },
      "source": [
        "x"
      ],
      "execution_count": 0,
      "outputs": [
        {
          "output_type": "execute_result",
          "data": {
            "text/plain": [
              "<tf.Tensor: shape=(1, 224, 224, 3), dtype=float32, numpy=\n",
              "array([[[[236., 180., 129.],\n",
              "         [229., 174., 120.],\n",
              "         [221., 166., 110.],\n",
              "         ...,\n",
              "         [ 63.,  26.,   0.],\n",
              "         [ 78.,  40.,  17.],\n",
              "         [ 98.,  60.,  37.]],\n",
              "\n",
              "        [[235., 179., 128.],\n",
              "         [229., 174., 120.],\n",
              "         [222., 165., 110.],\n",
              "         ...,\n",
              "         [ 63.,  26.,   0.],\n",
              "         [ 68.,  30.,   7.],\n",
              "         [ 83.,  45.,  22.]],\n",
              "\n",
              "        [[233., 177., 126.],\n",
              "         [227., 172., 118.],\n",
              "         [221., 164., 109.],\n",
              "         ...,\n",
              "         [ 75.,  38.,  12.],\n",
              "         [ 66.,  28.,   5.],\n",
              "         [ 70.,  32.,   9.]],\n",
              "\n",
              "        ...,\n",
              "\n",
              "        [[101.,  60.,  32.],\n",
              "         [131.,  90.,  62.],\n",
              "         [149., 105.,  76.],\n",
              "         ...,\n",
              "         [106.,  35.,  13.],\n",
              "         [121.,  50.,  30.],\n",
              "         [136.,  65.,  45.]],\n",
              "\n",
              "        [[115.,  74.,  44.],\n",
              "         [145., 104.,  74.],\n",
              "         [153., 109.,  80.],\n",
              "         ...,\n",
              "         [112.,  41.,  19.],\n",
              "         [128.,  57.,  37.],\n",
              "         [139.,  68.,  48.]],\n",
              "\n",
              "        [[126.,  85.,  55.],\n",
              "         [154., 113.,  83.],\n",
              "         [154., 110.,  81.],\n",
              "         ...,\n",
              "         [116.,  45.,  23.],\n",
              "         [133.,  60.,  41.],\n",
              "         [141.,  68.,  49.]]]], dtype=float32)>"
            ]
          },
          "metadata": {
            "tags": []
          },
          "execution_count": 90
        }
      ]
    },
    {
      "cell_type": "code",
      "metadata": {
        "id": "enCLwSVoTQYm",
        "colab_type": "code",
        "colab": {}
      },
      "source": [
        "ans=m.predict(x)"
      ],
      "execution_count": 0,
      "outputs": []
    },
    {
      "cell_type": "code",
      "metadata": {
        "id": "czsi14zVWrhT",
        "colab_type": "code",
        "colab": {}
      },
      "source": [
        "id=np.argmax(ans)"
      ],
      "execution_count": 0,
      "outputs": []
    },
    {
      "cell_type": "code",
      "metadata": {
        "id": "_ah7jkisXPE_",
        "colab_type": "code",
        "outputId": "a610f9ba-b838-4a36-a344-71f35c70105f",
        "colab": {
          "base_uri": "https://localhost:8080/",
          "height": 34
        }
      },
      "source": [
        "for key, val in label_dict.items():  \n",
        "    if val == id:\n",
        "        print(key)"
      ],
      "execution_count": 0,
      "outputs": [
        {
          "output_type": "stream",
          "text": [
            "lisa\n"
          ],
          "name": "stdout"
        }
      ]
    },
    {
      "cell_type": "code",
      "metadata": {
        "id": "KraRoXTrVEMy",
        "colab_type": "code",
        "colab": {}
      },
      "source": [
        "m.save('adv_model.hdf5')"
      ],
      "execution_count": 0,
      "outputs": []
    },
    {
      "cell_type": "code",
      "metadata": {
        "id": "TpMigitVVyXD",
        "colab_type": "code",
        "colab": {}
      },
      "source": [
        "!mv /content/adv_model.hdf5 '/content/drive/My Drive/cp/'"
      ],
      "execution_count": 0,
      "outputs": []
    },
    {
      "cell_type": "code",
      "metadata": {
        "id": "QOsA8n_NWDX2",
        "colab_type": "code",
        "outputId": "73dfa9cb-f149-4089-9707-31c6cd643326",
        "colab": {
          "base_uri": "https://localhost:8080/",
          "height": 34
        }
      },
      "source": [
        "label_dict"
      ],
      "execution_count": 0,
      "outputs": [
        {
          "output_type": "execute_result",
          "data": {
            "text/plain": [
              "{'jennie': 3, 'jisoo': 2, 'lisa': 0, 'rose': 1}"
            ]
          },
          "metadata": {
            "tags": []
          },
          "execution_count": 95
        }
      ]
    },
    {
      "cell_type": "markdown",
      "metadata": {
        "id": "0kXGy8anaQeO",
        "colab_type": "text"
      },
      "source": [
        "**classes=['lisa','rose','jisoo','jennie']**"
      ]
    },
    {
      "cell_type": "code",
      "metadata": {
        "id": "P4pgL7B7YtbI",
        "colab_type": "code",
        "colab": {}
      },
      "source": [
        ""
      ],
      "execution_count": 0,
      "outputs": []
    }
  ]
}